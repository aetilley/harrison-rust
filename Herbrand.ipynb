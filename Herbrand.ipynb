{
 "cells": [
  {
   "cell_type": "code",
   "execution_count": 3,
   "id": "ac6d0227-f977-4a7d-be14-85ab6eba7580",
   "metadata": {},
   "outputs": [],
   "source": [
    ":dep harrison_rust = {path = \".\"}"
   ]
  },
  {
   "cell_type": "markdown",
   "id": "4949b35c-8547-453a-b97a-6b2fa0a3380b",
   "metadata": {},
   "source": [
    "To run this notebook, you will need (in addition to Jupyter) a Jupyter Rust kernel, e.g. https://github.com/evcxr/evcxr/blob/main/evcxr_jupyter/README.md."
   ]
  },
  {
   "cell_type": "markdown",
   "id": "40bcb56c-f9a4-40dc-8822-9988bbfdf6ac",
   "metadata": {},
   "source": [
    "We will look at a semi-decision procedure for checking whether a first-order formula is valid."
   ]
  },
  {
   "cell_type": "markdown",
   "id": "6bb2a4bf-71f7-4e66-bc18-d4f0e4b2b589",
   "metadata": {},
   "source": [
    "/////////////////////////////////////////////////////////////////////////////////////////////////////////////////////////////////////////////////////////////////////////////////////////////////////////////\n"
   ]
  },
  {
   "cell_type": "markdown",
   "id": "46e17ee0-fc62-45a8-b86b-5d4779f8b549",
   "metadata": {},
   "source": [
    "Some quick starting definitions:\n",
    "\n",
    "Let $\\mathscr{L}$ be a language of first-order logic (which will usually be implied), and let $\\phi(\\bar{x})$ be an $\\mathscr{L}$-formula with free variables $\\bar{x}$.  (Note that $\\bar{x}$ may be empty, in which case we say that $\\phi$ is a *sentence*).\n",
    "\n",
    "(**Validity**) We say that $\\phi(\\bar{x})$ is (first-order) *valid* if for *all* $\\mathscr{L}$-models $M$ and *all* possible valuations $v$,  from $\\bar{x}$ into elements of the domain $dom(M)$ we have $M,v \\vDash \\phi(\\bar{x})$.\n",
    "\n",
    "(**Satisfiability**) We say that $\\phi(\\bar{x})$ is (first-order) *satisfiable* if there exists *at least one* $\\mathscr{L}$-model $M$ such that for *all* possible valuations $v$ from $\\bar{x}$ into elements of the domain $dom(M)$ we have $M,v \\vDash \\phi(\\bar{x})$\n",
    "\n",
    "(Note that in both definitions we have a universal quantifier over valuations.  If you're just trying to say e.g. that \"$\\phi$ is possible for some tuple, use constants instead of variables, ie. \"$\\phi(\\bar{c})$ is satisfiable\".  For purposes of validity and satisfiability, it helpful to think of $\\phi(\\bar{x})$ as $\\forall \\bar{x} \\phi(\\bar{x})$.)"
   ]
  },
  {
   "cell_type": "markdown",
   "id": "de6e9bb7-006f-459c-9926-ec78c31135ec",
   "metadata": {},
   "source": [
    "/////////////////////////////////////////////////////////////////////////////////////////////////////////////////////////////////////////////////////////////////////////////////////////////////////////////\n"
   ]
  },
  {
   "cell_type": "markdown",
   "id": "e050abec-0489-4abf-b18e-7e34f83e3c5c",
   "metadata": {},
   "source": [
    "Our proceedure will make use of three major pieces of machinery:\n",
    "\n",
    "1)  (Skolem) Every formula of first order logic is *equisatisfiable* to a quantifier free one.\n",
    "2)  (Herbrand) A quantifier free formula of first-order logic is first-order satisfiable just in case the set of all its *ground instances* is *propositionally satisfiable*., and\n",
    "3)  (Compactness) the (possibly infinite) set of formulas is satisfiable just in case every finite subset is satisfiable.\n",
    "\n",
    "At a high level, our algorithm will convert our case formula to quantifier-free and check larger and larger sets of ground instances for unsatisfiability.  First we will walk through the Skolemization process.  Next we will look at the concepts involved in Herbrand's threorem, although we will not go through the proof.  (We take Compactness as given.)   Finally we look at the complete semi-decision proceedure.  Throughout we will use the `harrison_rust` package to provide concrete examples throughout.  You can find the source code here:\n",
    "\n",
    "https://github.com/aetilley/harrison-rust"
   ]
  },
  {
   "cell_type": "markdown",
   "id": "a4a7001d-0591-41b8-ad9e-9f606d7793b5",
   "metadata": {},
   "source": [
    "/////////////////////////////////////////////////////////////////////////////////////////////////////////////////////////////////////////////////////////////////////////////////////////////////////////////\n"
   ]
  },
  {
   "cell_type": "markdown",
   "id": "209171ce-b494-4082-af1d-3abdc0603079",
   "metadata": {},
   "source": [
    "I)  **Skolemization**"
   ]
  },
  {
   "cell_type": "markdown",
   "id": "415778c6-4da2-4943-a8c6-300bc3c33fe4",
   "metadata": {},
   "source": [
    "(Every formula of first order logic is equisatisfiable to some quantifier free formula.)"
   ]
  },
  {
   "cell_type": "markdown",
   "id": "fcbb97a4-e4a3-4da7-91a0-4aa10c6e780d",
   "metadata": {},
   "source": [
    "Recall the definitions:"
   ]
  },
  {
   "cell_type": "markdown",
   "id": "5674918b-8e73-496b-a893-0761931efe4d",
   "metadata": {},
   "source": [
    "**Equisatisfiability**:  $\\phi$ and $\\psi$ are *equisatisfiable* just in case $\\phi$ is satisfiable iff $\\psi$ is.  Note that this is strictly weaker than their being *equivalent* (ie. being satisfied in the same interpretations)."
   ]
  },
  {
   "cell_type": "markdown",
   "id": "27661978-9a1a-4ee6-a753-bd9a49a5f0b7",
   "metadata": {},
   "source": [
    "**PNF**:  A formula $\\phi$ is in Prenex Normal Form (PNF) if there is a quantifier-free formula $\\psi$, integer $n$, and quantifiers ${Q_i: 1 \\leq i \\leq n}$ such that $\\phi = Q_{n} x_{n}\\ldots Q_{1} x_{1}\\psi$\n",
    "\n",
    "Theorem:  Every first-order formula has an equivalent formula in prenex normal form."
   ]
  },
  {
   "cell_type": "markdown",
   "id": "e146cbb9-fe42-4b96-830b-fb645843e2b4",
   "metadata": {},
   "source": [
    "Our package has a tool for doing this conversion:\n",
    "\n",
    "https://github.com/aetilley/harrison-rust/blob/main/src/first_order_logic.rs#L1633"
   ]
  },
  {
   "cell_type": "code",
   "execution_count": 3,
   "id": "a12d85f1-770e-413d-a47d-d3233c806d0c",
   "metadata": {},
   "outputs": [
    {
     "name": "stdout",
     "output_type": "stream",
     "text": [
      "<<(exists x. F(x, z)) ==> (forall z. ~G(z, x))>>\n"
     ]
    }
   ],
   "source": [
    "use harrison_rust::formula::Formula;\n",
    "use harrison_rust::first_order_logic::Pred;\n",
    "\n",
    "let formula_string = \"exists x. F(x, z) ==> forall z. ~G(z, x)\";\n",
    "let formula = Formula::<Pred>::parse(formula_string).unwrap();\n",
    "formula.pprint();"
   ]
  },
  {
   "cell_type": "markdown",
   "id": "f905b94e-92e9-4577-9cb0-141cd082f1c7",
   "metadata": {},
   "source": [
    "In PNF..."
   ]
  },
  {
   "cell_type": "code",
   "execution_count": 4,
   "id": "1d49f06e-85f6-470b-8b7a-1debc7c1fb0e",
   "metadata": {},
   "outputs": [
    {
     "name": "stdout",
     "output_type": "stream",
     "text": [
      "<<forall x' z'. (~F(x', z) \\/ ~G(z', x))>>\n"
     ]
    }
   ],
   "source": [
    "formula.pnf().pprint();"
   ]
  },
  {
   "cell_type": "markdown",
   "id": "25d7522e-fb65-43c9-99ad-ef935b01b3f3",
   "metadata": {},
   "source": [
    "So for our Skolemization task, it suffices to focus on ways to remove leading quantifiers.\n",
    "\n",
    "Universal quantifiers are easy, since the semantics of formulas with free variables is such that  $\\forall \\bar{x} \\phi(\\bar{x})$ and $\\phi(\\bar{x})$ are equisatisfiable.\n",
    "\n",
    "What about $\\exists \\bar{x} \\phi(\\bar{x})$ ?"
   ]
  },
  {
   "cell_type": "markdown",
   "id": "1a777f46-1e8c-49ad-9e13-0e23401b0002",
   "metadata": {},
   "source": [
    "Here we use Skolem's observation that given a first-order language $\\mathscr{L}$, an $\\mathscr{L}$-formula $\\exists \\bar{x} \\phi(\\bar{x})$ is satisfiable just in case the $\\mathscr{L} \\cup \\{\\bar{c}\\}$-formula $\\phi(\\bar{c})$ is satisfiable for some fresh constants $\\bar{c}$.\n",
    "\n",
    "More generally, $\\forall \\bar{y} \\exists \\bar{x} \\phi(\\bar{y}, \\bar{x})$ is satisfiable just in case $\\forall \\bar{y}\\phi(f(\\bar{y}))$ for some fresh function symbol $f$.\n",
    "\n",
    "Thus we given our PNF formula $\\phi = Q_{n} x_{n}\\ldots Q_{1} x_{1} \\psi$, we can start from the outside and work inward.  If we encounter a universal quantifier, leave it for now.  If we encounter an existential quantifier, say $\\forall \\bar{z} \\exists{x_{j}} \\psi_{j}$ we remove $\\exists{x_{j}}$ and substitute into $\\psi_{j}$ a fresh $f_j(\\bar{z})$ for $x_j$.\n",
    "\n",
    "When we have handled all the existenials, then we can simply remove the universal quantifiers.  \n",
    "\n",
    "The result is a quantifier-free formula that is equisatisfiable to $\\phi$.\n",
    "\n",
    "You can experiment with Skolemization in our package:\n",
    "\n",
    "https://github.com/aetilley/harrison-rust/blob/main/src/first_order_logic.rs#L1779"
   ]
  },
  {
   "cell_type": "code",
   "execution_count": 5,
   "id": "371db23f-4c35-449e-8d87-3667dff27769",
   "metadata": {},
   "outputs": [
    {
     "name": "stdout",
     "output_type": "stream",
     "text": [
      "<<~P(g(c_x, w)) \\/ ~R(f_y(w), c_x)>>\n"
     ]
    }
   ],
   "source": [
    "use harrison_rust::formula::Formula;\n",
    "use harrison_rust::first_order_logic::Pred;\n",
    "\n",
    "let formula_string = \"exists x. forall w. exists y. (P(g(x, w)) ==>  ~R(y, x))\";\n",
    "let formula = Formula::<Pred>::parse(formula_string).unwrap();\n",
    "let result = formula.skolemize();\n",
    "result.pprint();"
   ]
  },
  {
   "cell_type": "markdown",
   "id": "aa5366d8-194b-4d77-b3a1-850180497268",
   "metadata": {},
   "source": [
    "/////////////////////////////////////////////////////////////////////////////////////////////////////////////////////////////////////////////////////////////////////////////////////////////////////////////\n"
   ]
  },
  {
   "cell_type": "markdown",
   "id": "54039a55-c9f4-4b54-ab06-afaf3be62265",
   "metadata": {},
   "source": [
    "II **Herbrand**"
   ]
  },
  {
   "cell_type": "markdown",
   "id": "5971167d-eb64-44c0-949d-cc05cf838559",
   "metadata": {},
   "source": [
    "A quantifier free formula of first-order logic is first order satisfiable just in case the set of all its *ground instances* is *propositionally satisfiable*."
   ]
  },
  {
   "cell_type": "markdown",
   "id": "d1d4afec-230d-4362-8aa5-fc26b4cde041",
   "metadata": {},
   "source": [
    "We will not prove Herbrand's theorem, but we should define these italicized terms."
   ]
  },
  {
   "cell_type": "markdown",
   "id": "3e8644f4-1bbb-47f4-bbc5-707c51dd022d",
   "metadata": {},
   "source": [
    "Roughly, a quantifier-free formula of first-order logic is said to be *propositionally satisfiable (valid)* if the formula of propositional logic that results from from substituting each first-order atomic subformula (e.g. $R(\\bar{t})$) by a propositional logic sentential variable tagged with its name (say $p_{R(\\bar{t})}$) is satisfiable (resp. valid)."
   ]
  },
  {
   "cell_type": "markdown",
   "id": "27377411-b59b-4f07-832f-43ef1db220a0",
   "metadata": {},
   "source": [
    "We can then derive the following, which we state without proof:\n",
    "\n",
    "**Theorem 1**:  A quantifier-free formula of first-order logic is propositionally valid iff it is first-ordervalid.\n",
    "\n",
    "**Corollary 2**:  A quantifier-free formula of first-order logic *with no free variables* is propositionally satisfiable iff it is first-order satisfiable. "
   ]
  },
  {
   "cell_type": "markdown",
   "id": "267ac764-ecb0-438f-877b-711fd405b523",
   "metadata": {},
   "source": [
    "We have implemented the DPLL algorithm\n",
    "\n",
    "https://github.com/aetilley/harrison-rust/blob/main/src/formula.rs#L2213\n",
    "\n",
    "to operate on a generic quantifier-free formulas (not just formulas of propositional logic).  So we can check for \n",
    "1) propositional satisfiability for quantifier-free first order formulas, and indeed\n",
    "2) first-order satisfiability for quantifier-free first order formulas with no free variables.  E.g."
   ]
  },
  {
   "cell_type": "code",
   "execution_count": 6,
   "id": "83b64419-30f2-407c-b9f8-de2ff26979b7",
   "metadata": {},
   "outputs": [
    {
     "name": "stdout",
     "output_type": "stream",
     "text": [
      "Is propositionally (and first-order) satisfiable?: true\n"
     ]
    }
   ],
   "source": [
    "use harrison_rust::formula::Formula;\n",
    "use harrison_rust::first_order_logic::Pred;\n",
    "\n",
    "let formula_string = \"R(c) /\\\\ ~R(d)\";\n",
    "let formula = Formula::<Pred>::parse(formula_string).unwrap();\n",
    "\n",
    "println!(\"Is propositionally (and first-order) satisfiable?: {}\", formula.dpll_sat());"
   ]
  },
  {
   "cell_type": "code",
   "execution_count": 7,
   "id": "882dc47f-802f-4bc9-a197-47ee180cefa6",
   "metadata": {},
   "outputs": [
    {
     "name": "stdout",
     "output_type": "stream",
     "text": [
      "Is propositionally satisfiable?: true\n"
     ]
    }
   ],
   "source": [
    "\n",
    "let formula_string = \"R(x) /\\\\ ~R(y)\";\n",
    "let formula = Formula::<Pred>::parse(formula_string).unwrap();\n",
    "\n",
    "println!(\"Is propositionally satisfiable?: {}\", formula.dpll_sat());"
   ]
  },
  {
   "cell_type": "code",
   "execution_count": 8,
   "id": "f2014da1-c9b9-4ff6-8a4c-84e67aef27a0",
   "metadata": {},
   "outputs": [
    {
     "name": "stdout",
     "output_type": "stream",
     "text": [
      "Is propositionally satisfiable?: false\n"
     ]
    }
   ],
   "source": [
    "let formula_string = \"R(x) /\\\\ ~R(x)\";\n",
    "let formula = Formula::<Pred>::parse(formula_string).unwrap();\n",
    "\n",
    "println!(\"Is propositionally satisfiable?: {}\", formula.dpll_sat());"
   ]
  },
  {
   "cell_type": "markdown",
   "id": "3e7c2714-5a98-46b0-96a4-e0beb595c7cb",
   "metadata": {},
   "source": [
    "Unfortunately we do not have an analogous theorem to Theorem 1 above for satisfiability.  That is a quantifier-free formula of first-order logic may be propositionally satisfiable without being first-order satisfiable (if it has free variables).  \n",
    "\n",
    "As a matter of fact the formula given above $R(x) \\wedge ~R(y)$ is an example of this.  Clearly as a propositional logic formula this is equivalent to $p \\wedge q$.  But to be first-order satisfiable, it must hold in some model $M$ under *all* valuations $v$ of the variables, and there are some valuations that map $x$ and $y$ to the same element.\n",
    "\n",
    "And while our Skolemization transformation above is *satisfiability preserving*, it is not *validity preserving*, so we cannot simply test for the validity of a first-order formula by testing for the propositional validity of its Skolemization.\n",
    "\n",
    "And remember that Skolemization introduces free variables at the last step when the universal quantifier's are dropped, so we can't check for a Skolemization's satisfiability by checking for its negation's validity.\n"
   ]
  },
  {
   "cell_type": "markdown",
   "id": "01b72ef7-2d45-4e1e-96de-5bfde4f4cf2b",
   "metadata": {},
   "source": [
    "_However_ Herbrand's theorem shows that we can get something almost as good.  We will need another definition..."
   ]
  },
  {
   "cell_type": "markdown",
   "id": "6c9806fb-d775-4c72-834e-f1fb06189fc7",
   "metadata": {},
   "source": [
    "Given a first-order formula $\\phi$ involving with free variables $\\bar{x}$ and involving constants / functions $\\bar{c} , \\bar{f}$, a *ground instance* of $\\phi$ is the result of substituting in terms (called *ground terms*) built up out of $\\bar{c}, \\bar{f}$ (and no variables) for the free variables in $\\phi$.  If there are no constants occuring in $\\phi$ then we introdue a new constant $c$ so that there is at least one ground term.\n",
    "\n",
    "For example, if $\\phi$ were $R(x,y)$, then the only ground term would be $c$ and the only ground instance would be $R(c, c)$.\n",
    "\n",
    "On the other hand if $\\phi$ were $R(f(x),g(d))$, then the ground terms would be $$d, f(d), g(d), f(f(d), f(g(d)), g(f(d), g(g(d)), \\ldots$$ and the ground instances of $\\phi$ would be $$F(f(d), g(d)), F(f(f(d)), g(d)), F(f(g(d)), g(d)), \\ldots$$"
   ]
  },
  {
   "cell_type": "markdown",
   "id": "93702dd6-e529-4d23-8e4d-c219d3e61d6b",
   "metadata": {},
   "source": [
    "You can generate ground terms of any formula in the provided package with the function `ground_terms`.\n",
    "\n",
    "https://github.com/aetilley/harrison-rust/blob/main/src/first_order_logic.rs#L1844\n",
    "\n",
    "The following code computes all the ground terms of depth 2 over a constant $42$, a binary function $f$ and a unary function $g$."
   ]
  },
  {
   "cell_type": "code",
   "execution_count": 9,
   "id": "ee003f28-0666-4966-b5c5-b63c16e82599",
   "metadata": {},
   "outputs": [
    {
     "name": "stdout",
     "output_type": "stream",
     "text": [
      "<<|f(g(42), 42)|>>\n",
      "<<|g(f(42, 42))|>>\n",
      "<<|f(42, f(42, 42))|>>\n",
      "<<|f(42, g(42))|>>\n",
      "<<|f(f(42, 42), 42)|>>\n",
      "<<|g(g(42))|>>\n"
     ]
    },
    {
     "data": {
      "text/plain": [
       "()"
      ]
     },
     "execution_count": 9,
     "metadata": {},
     "output_type": "execute_result"
    }
   ],
   "source": [
    "use harrison_rust::formula::Formula;\n",
    "use harrison_rust::first_order_logic::{Pred, Term};\n",
    "\n",
    "use std::collections::{HashMap, HashSet};\n",
    "\n",
    "let constants = HashSet::from([(String::from(\"42\"), 0)]);\n",
    "let functions = HashSet::from([(String::from(\"f\"), 2), (String::from(\"g\"), 1)]);\n",
    "let empty_cache = HashMap::new();\n",
    "let level = 2;\n",
    "let result = Formula::ground_terms(&constants, &functions, level, &mut empty_cache.clone());\n",
    "for term in result {\n",
    "    term.pprint()\n",
    "}\n"
   ]
  },
  {
   "cell_type": "markdown",
   "id": "3c869e76-7c58-4092-99d2-97795e67bcef",
   "metadata": {},
   "source": [
    "Similarly, the ground *instances* correspond directly to length $n$ tuples of ground instances, where $n$ is the number of free variables in the case formula. We have the following code to compute such tuple.\n",
    "\n",
    "https://github.com/aetilley/harrison-rust/blob/main/src/first_order_logic.rs#L1890\n",
    "\n",
    "For instance, taking $\\phi = R(f(x), y)$ the functions will be $f$ and the added constant $c$.  Tuples will be of length two.  The following call will compute all such tuples where exactly 3 (non-constant) function calls occur summing over all entries of the tuple:"
   ]
  },
  {
   "cell_type": "code",
   "execution_count": 10,
   "id": "99b47c07-ad96-41c1-b730-168d426fe6b9",
   "metadata": {},
   "outputs": [
    {
     "name": "stdout",
     "output_type": "stream",
     "text": [
      "<<|c|>>\n",
      "<<|f(f(f(c)))|>>\n",
      "\n",
      "<<|f(c)|>>\n",
      "<<|f(f(c))|>>\n",
      "\n",
      "<<|f(f(c))|>>\n",
      "<<|f(c)|>>\n",
      "\n",
      "<<|f(f(f(c)))|>>\n",
      "<<|c|>>\n",
      "\n"
     ]
    },
    {
     "data": {
      "text/plain": [
       "()"
      ]
     },
     "execution_count": 10,
     "metadata": {},
     "output_type": "execute_result"
    }
   ],
   "source": [
    "use harrison_rust::formula::Formula;\n",
    "use std::collections::{HashMap, HashSet};\n",
    "use harrison_rust::first_order_logic::{Pred, Term};\n",
    "\n",
    "let constants = HashSet::from([(String::from(\"c\"), 0)]);\n",
    "let functions = HashSet::from([(String::from(\"f\"), 1)]);\n",
    "let cache = HashMap::new();\n",
    "let level = 3;\n",
    "let size  = 2;\n",
    "\n",
    "let result = Formula::ground_tuples(&constants, &functions, level, size, &mut cache.clone());\n",
    "\n",
    "for tuple in result {\n",
    "    for term in tuple {\n",
    "        term.pprint();\n",
    "    }\n",
    "    println!()\n",
    "}"
   ]
  },
  {
   "cell_type": "markdown",
   "id": "2cd8e454-e6f4-4340-835d-ca00191e2185",
   "metadata": {},
   "source": [
    "Exciting huh?"
   ]
  },
  {
   "cell_type": "markdown",
   "id": "512609ce-69e9-4748-a55f-13f97a8a570c",
   "metadata": {},
   "source": [
    "At this point all the terms in Herbrand's Theorem should make sense:\n",
    "\n",
    "**Theorem 3**:  A quantifier-free formula of first-order logic is first-order satisfiable just in case the set of all its ground instances is propositionally satisfiable\n",
    "\n",
    "Now by the compactness theorem, this theorem is equivalent to\n",
    "\n",
    "**Corollary 4**: A quantifier-free formula of first-order logic is first-order satisfiable just in case every finite subset of its ground instances is propositionally satisfiable, \n",
    "\n",
    "or equivalently\n",
    "\n",
    "**Corollary 5**: A quantifier-free formula of first-order logic is first-order unsatisfiable just in case some finite subset of its ground instances is propositionally unsatisfiable, \n",
    "\n",
    "\n"
   ]
  },
  {
   "cell_type": "markdown",
   "id": "9603c79d-7e7b-4201-9541-dc02da382274",
   "metadata": {},
   "source": [
    "/////////////////////////////////////////////////////////////////////////////////////////////////////////////////////////////////////////////////////////////////////////////////////////////////////////////\n"
   ]
  },
  {
   "cell_type": "markdown",
   "id": "23f9092a-8e68-4b85-aca3-fe707a24f9b5",
   "metadata": {},
   "source": [
    "III **A semi-decision proceedure for validity**"
   ]
  },
  {
   "cell_type": "markdown",
   "id": "6fcd29ab-0e75-484c-9b77-09cb649bdb0d",
   "metadata": {},
   "source": [
    "With this, we are now in a position to design a semi-decision procedure for first-order unsatisfiability, because by the can enumerate larger and larger finite subsets of the set of all ground instances, testing each for satisfiability.  If the formula is unsatisfiable, we will eventually encompass this subset.  Otherwise we will run forever (or give up never knowing).\n",
    "\n",
    "Indeed we will primarily use this as a semi-decision procedure for first order *validity*.   A first-order formula $\\phi(\\bar{x})$ with free variables $\\bar{x}$ is valid just in case $\\forall \\bar{x} \\phi(\\bar{x}) $ (called its *generalization*) is valid, which (the latter having no free variables) is true just in case its negation is unsatisfiable.\n",
    "\n",
    "So the outline of the semi-decision proceedure for validity will go as follows:\n",
    "\n",
    "Given $\\phi(\\bar{x})$ with free variables $\\bar{x}$:\n",
    "\n",
    "1)  Compute $\\psi := \\lnot \\forall\\bar{x} \\phi(\\bar{x})$\n",
    "\n",
    "2)  Compute the Skolemization $\\chi$ of $\\psi$ to get an equisatisfiable quantifier free formula.\n",
    "\n",
    "3)  Iteratively check larger and larger subsets of all of $\\chi$'s ground instances for unsatisfiability.\n",
    "\n",
    "4)  If we find an unsatisfiable set (before giving up), we conclude that $\\phi$ was valid."
   ]
  },
  {
   "cell_type": "markdown",
   "id": "707d92f1-115f-483d-a8e8-8499d4e13653",
   "metadata": {},
   "source": [
    "Our library has implementation of more than one historical a function implement this check (each using different formula representations and different satisfiability checks).  We will look at the Davis-Putnam algorithm\n",
    "\n",
    "https://github.com/aetilley/harrison-rust/blob/main/src/first_order_logic.rs#L2232\n",
    "\n",
    "First let's check a valid formula:\n"
   ]
  },
  {
   "cell_type": "code",
   "execution_count": 3,
   "id": "cd6e8a45-3d9f-486d-a3db-4a6a15df444c",
   "metadata": {},
   "outputs": [
    {
     "name": "stdout",
     "output_type": "stream",
     "text": [
      "Free variables are [\"x\", \"y\"]\n",
      "Generating tuples for next level 0\n",
      "Adding new formula to set: \"<<Loves(c, c) /\\\\ ~Loves(c, best_friend(c))>>\"\n",
      "Generating tuples for next level 1\n",
      "Adding new formula to set: \"<<Loves(c, best_friend(c)) /\\\\ ~Loves(c, best_friend(best_friend(c)))>>\"\n",
      "Found 2 inconsistent ground instances of skolemized negation:\n",
      "<<Loves(c, best_friend(c)) /\\ ~Loves(c, best_friend(best_friend(c)))>>\n",
      "<<Loves(c, c) /\\ ~Loves(c, best_friend(c))>>\n",
      "Formula is valid.\n"
     ]
    },
    {
     "data": {
      "text/plain": [
       "ValidityProved({[Fun(\"c\", []), Fun(\"c\", [])], [Fun(\"best_friend\", [Fun(\"c\", [])]), Fun(\"c\", [])]})"
      ]
     },
     "execution_count": 3,
     "metadata": {},
     "output_type": "execute_result"
    }
   ],
   "source": [
    "use harrison_rust::formula::Formula;\n",
    "use harrison_rust::first_order_logic::Pred;\n",
    "\n",
    "let string = \"exists x. exists y. (Loves(y, x) ==> Loves(y, best_friend(x)))\";\n",
    "let formula = Formula::<Pred>::parse(string).unwrap();\n",
    "let compute_unsat_core = true;\n",
    "let max_depth = 10;\n",
    "Formula::davis_putnam(&formula, compute_unsat_core, max_depth)"
   ]
  },
  {
   "cell_type": "markdown",
   "id": "6509ae2b-f48c-4d49-9303-5ba4f3da9990",
   "metadata": {},
   "source": [
    "Indeed the negation that we are checking for satisfiability is \n",
    "$$\\forall x \\forall y (\\lnot Loves(y, best\\_friend(x)) \\wedge Loves (y, x))$$\n",
    "which is clearly not satisfiable.\n",
    "\n",
    "Let's look at a trickier one:"
   ]
  },
  {
   "cell_type": "code",
   "execution_count": 4,
   "id": "79efe6aa-a5f8-458d-ad42-a68721b8d174",
   "metadata": {},
   "outputs": [
    {
     "name": "stdout",
     "output_type": "stream",
     "text": [
      "Free variables are [\"w\", \"x\", \"y\"]\n",
      "Generating tuples for next level 0\n",
      "Adding new formula to set: \"<<(((P(c_x) /\\\\ Q(c_y)) /\\\\ ((R(f_z(c_x, c_x)) \\\\/ ~P(c_x)) \\\\/ ~Q(c_x))) /\\\\ ((U(c_x) \\\\/ ~P(c_x)) \\\\/ ~Q(c_x))) /\\\\ ~R(c_x)>>\"\n",
      "Adding new formula to set: \"<<(((P(c_x) /\\\\ Q(c_y)) /\\\\ ((R(f_z(c_x, c_y)) \\\\/ ~P(c_x)) \\\\/ ~Q(c_y))) /\\\\ ((U(c_x) \\\\/ ~P(c_x)) \\\\/ ~Q(c_y))) /\\\\ ~R(c_x)>>\"\n",
      "Adding new formula to set: \"<<(((P(c_x) /\\\\ Q(c_y)) /\\\\ ((R(f_z(c_y, c_x)) \\\\/ ~P(c_y)) \\\\/ ~Q(c_x))) /\\\\ ((U(c_x) \\\\/ ~P(c_y)) \\\\/ ~Q(c_x))) /\\\\ ~R(c_y)>>\"\n",
      "Adding new formula to set: \"<<(((P(c_x) /\\\\ Q(c_y)) /\\\\ ((R(f_z(c_y, c_y)) \\\\/ ~P(c_y)) \\\\/ ~Q(c_y))) /\\\\ ((U(c_x) \\\\/ ~P(c_y)) \\\\/ ~Q(c_y))) /\\\\ ~R(c_y)>>\"\n",
      "Adding new formula to set: \"<<(((P(c_x) /\\\\ Q(c_y)) /\\\\ ((R(f_z(c_x, c_x)) \\\\/ ~P(c_x)) \\\\/ ~Q(c_x))) /\\\\ ((U(c_y) \\\\/ ~P(c_x)) \\\\/ ~Q(c_x))) /\\\\ ~R(c_x)>>\"\n",
      "Adding new formula to set: \"<<(((P(c_x) /\\\\ Q(c_y)) /\\\\ ((R(f_z(c_x, c_y)) \\\\/ ~P(c_x)) \\\\/ ~Q(c_y))) /\\\\ ((U(c_y) \\\\/ ~P(c_x)) \\\\/ ~Q(c_y))) /\\\\ ~R(c_x)>>\"\n",
      "Adding new formula to set: \"<<(((P(c_x) /\\\\ Q(c_y)) /\\\\ ((R(f_z(c_y, c_x)) \\\\/ ~P(c_y)) \\\\/ ~Q(c_x))) /\\\\ ((U(c_y) \\\\/ ~P(c_y)) \\\\/ ~Q(c_x))) /\\\\ ~R(c_y)>>\"\n",
      "Adding new formula to set: \"<<(((P(c_x) /\\\\ Q(c_y)) /\\\\ ((R(f_z(c_y, c_y)) \\\\/ ~P(c_y)) \\\\/ ~Q(c_y))) /\\\\ ((U(c_y) \\\\/ ~P(c_y)) \\\\/ ~Q(c_y))) /\\\\ ~R(c_y)>>\"\n",
      "Generating tuples for next level 1\n",
      "Adding new formula to set: \"<<(((P(c_x) /\\\\ Q(c_y)) /\\\\ ((R(f_z(c_x, f_z(c_x, c_x))) \\\\/ ~P(c_x)) \\\\/ ~Q(f_z(c_x, c_x)))) /\\\\ ((U(c_x) \\\\/ ~P(c_x)) \\\\/ ~Q(f_z(c_x, c_x)))) /\\\\ ~R(c_x)>>\"\n",
      "Adding new formula to set: \"<<(((P(c_x) /\\\\ Q(c_y)) /\\\\ ((R(f_z(c_x, f_z(c_x, c_y))) \\\\/ ~P(c_x)) \\\\/ ~Q(f_z(c_x, c_y)))) /\\\\ ((U(c_x) \\\\/ ~P(c_x)) \\\\/ ~Q(f_z(c_x, c_y)))) /\\\\ ~R(c_x)>>\"\n",
      "Adding new formula to set: \"<<(((P(c_x) /\\\\ Q(c_y)) /\\\\ ((R(f_z(c_x, f_z(c_y, c_x))) \\\\/ ~P(c_x)) \\\\/ ~Q(f_z(c_y, c_x)))) /\\\\ ((U(c_x) \\\\/ ~P(c_x)) \\\\/ ~Q(f_z(c_y, c_x)))) /\\\\ ~R(c_x)>>\"\n",
      "Adding new formula to set: \"<<(((P(c_x) /\\\\ Q(c_y)) /\\\\ ((R(f_z(c_x, f_z(c_y, c_y))) \\\\/ ~P(c_x)) \\\\/ ~Q(f_z(c_y, c_y)))) /\\\\ ((U(c_x) \\\\/ ~P(c_x)) \\\\/ ~Q(f_z(c_y, c_y)))) /\\\\ ~R(c_x)>>\"\n",
      "Adding new formula to set: \"<<(((P(c_x) /\\\\ Q(c_y)) /\\\\ ((R(f_z(c_y, f_z(c_x, c_x))) \\\\/ ~P(c_y)) \\\\/ ~Q(f_z(c_x, c_x)))) /\\\\ ((U(c_x) \\\\/ ~P(c_y)) \\\\/ ~Q(f_z(c_x, c_x)))) /\\\\ ~R(c_y)>>\"\n",
      "Adding new formula to set: \"<<(((P(c_x) /\\\\ Q(c_y)) /\\\\ ((R(f_z(c_y, f_z(c_x, c_y))) \\\\/ ~P(c_y)) \\\\/ ~Q(f_z(c_x, c_y)))) /\\\\ ((U(c_x) \\\\/ ~P(c_y)) \\\\/ ~Q(f_z(c_x, c_y)))) /\\\\ ~R(c_y)>>\"\n",
      "Adding new formula to set: \"<<(((P(c_x) /\\\\ Q(c_y)) /\\\\ ((R(f_z(c_y, f_z(c_y, c_x))) \\\\/ ~P(c_y)) \\\\/ ~Q(f_z(c_y, c_x)))) /\\\\ ((U(c_x) \\\\/ ~P(c_y)) \\\\/ ~Q(f_z(c_y, c_x)))) /\\\\ ~R(c_y)>>\"\n",
      "Adding new formula to set: \"<<(((P(c_x) /\\\\ Q(c_y)) /\\\\ ((R(f_z(c_y, f_z(c_y, c_y))) \\\\/ ~P(c_y)) \\\\/ ~Q(f_z(c_y, c_y)))) /\\\\ ((U(c_x) \\\\/ ~P(c_y)) \\\\/ ~Q(f_z(c_y, c_y)))) /\\\\ ~R(c_y)>>\"\n",
      "Adding new formula to set: \"<<(((P(c_x) /\\\\ Q(c_y)) /\\\\ ((R(f_z(f_z(c_x, c_x), c_x)) \\\\/ ~P(f_z(c_x, c_x))) \\\\/ ~Q(c_x))) /\\\\ ((U(c_x) \\\\/ ~P(f_z(c_x, c_x))) \\\\/ ~Q(c_x))) /\\\\ ~R(f_z(c_x, c_x))>>\"\n",
      "Adding new formula to set: \"<<(((P(c_x) /\\\\ Q(c_y)) /\\\\ ((R(f_z(f_z(c_x, c_x), c_y)) \\\\/ ~P(f_z(c_x, c_x))) \\\\/ ~Q(c_y))) /\\\\ ((U(c_x) \\\\/ ~P(f_z(c_x, c_x))) \\\\/ ~Q(c_y))) /\\\\ ~R(f_z(c_x, c_x))>>\"\n",
      "Adding new formula to set: \"<<(((P(c_x) /\\\\ Q(c_y)) /\\\\ ((R(f_z(f_z(c_x, c_y), c_x)) \\\\/ ~P(f_z(c_x, c_y))) \\\\/ ~Q(c_x))) /\\\\ ((U(c_x) \\\\/ ~P(f_z(c_x, c_y))) \\\\/ ~Q(c_x))) /\\\\ ~R(f_z(c_x, c_y))>>\"\n",
      "Found 2 inconsistent ground instances of skolemized negation:\n",
      "<<(((P(c_x) /\\ Q(c_y)) /\\ ((R(f_z(c_x, c_y)) \\/ ~P(c_x)) \\/ ~Q(c_y))) /\\ ((U(c_y) \\/ ~P(c_x)) \\/ ~Q(c_y))) /\\ ~R(c_x)>>\n",
      "<<(((P(c_x) /\\ Q(c_y)) /\\ ((R(f_z(f_z(c_x, c_y), c_x)) \\/ ~P(f_z(c_x, c_y))) \\/ ~Q(c_x))) /\\ ((U(c_x) \\/ ~P(f_z(c_x, c_y))) \\/ ~Q(c_x))) /\\ ~R(f_z(c_x, c_y))>>\n",
      "Formula is valid.\n"
     ]
    },
    {
     "data": {
      "text/plain": [
       "ValidityProved({[Fun(\"c_y\", []), Fun(\"c_x\", []), Fun(\"c_y\", [])], [Fun(\"c_x\", []), Fun(\"f_z\", [Fun(\"c_x\", []), Fun(\"c_y\", [])]), Fun(\"c_x\", [])]})"
      ]
     },
     "execution_count": 4,
     "metadata": {},
     "output_type": "execute_result"
    }
   ],
   "source": [
    "use harrison_rust::formula::Formula;\n",
    "use harrison_rust::first_order_logic::Pred;\n",
    "\n",
    "let string = \"(forall x y. exists z. forall w. (P(x) /\\\\ Q(y) ==> R(z) /\\\\ U(w))) \n",
    "    ==> (exists x y. (P(x) /\\\\ Q(y))) ==> (exists z. R(z))\";\n",
    "let formula = Formula::<Pred>::parse(string).unwrap();\n",
    "let compute_unsat_core = true;\n",
    "let max_depth = 10;\n",
    "Formula::davis_putnam(&formula, compute_unsat_core, max_depth)"
   ]
  },
  {
   "cell_type": "markdown",
   "id": "898b65a3-cbba-4008-b868-c21835408082",
   "metadata": {},
   "source": [
    "Next we check a formula similar to our first validity above but with universal quantifier:"
   ]
  },
  {
   "cell_type": "code",
   "execution_count": 5,
   "id": "7f169303-4c1c-47d1-9d3f-7807697ca1ab",
   "metadata": {},
   "outputs": [
    {
     "name": "stdout",
     "output_type": "stream",
     "text": [
      "Free variables are [\"y\"]\n",
      "Generating tuples for next level 0\n",
      "Adding new formula to set: \"<<Loves(c_x, c_x) /\\\\ ~Loves(c_x, best_friend(c_x))>>\"\n",
      "Generating tuples for next level 1\n",
      "Adding new formula to set: \"<<Loves(best_friend(c_x), c_x) /\\\\ ~Loves(best_friend(c_x), best_friend(c_x))>>\"\n",
      "Generating tuples for next level 2\n",
      "Adding new formula to set: \"<<Loves(best_friend(best_friend(c_x)), c_x) /\\\\ ~Loves(best_friend(best_friend(c_x)), best_friend(c_x))>>\"\n",
      "Generating tuples for next level 3\n",
      "Adding new formula to set: \"<<Loves(best_friend(best_friend(best_friend(c_x))), c_x) /\\\\ ~Loves(best_friend(best_friend(best_friend(c_x))), best_friend(c_x))>>\"\n",
      "Generating tuples for next level 4\n",
      "Adding new formula to set: \"<<Loves(best_friend(best_friend(best_friend(best_friend(c_x)))), c_x) /\\\\ ~Loves(best_friend(best_friend(best_friend(best_friend(c_x)))), best_friend(c_x))>>\"\n",
      "Generating tuples for next level 5\n",
      "Adding new formula to set: \"<<Loves(best_friend(best_friend(best_friend(best_friend(best_friend(c_x))))), c_x) /\\\\ ~Loves(best_friend(best_friend(best_friend(best_friend(best_friend(c_x))))), best_friend(c_x))>>\"\n",
      "Generating tuples for next level 6\n",
      "Adding new formula to set: \"<<Loves(best_friend(best_friend(best_friend(best_friend(best_friend(best_friend(c_x)))))), c_x) /\\\\ ~Loves(best_friend(best_friend(best_friend(best_friend(best_friend(best_friend(c_x)))))), best_friend(c_x))>>\"\n",
      "Generating tuples for next level 7\n",
      "Adding new formula to set: \"<<Loves(best_friend(best_friend(best_friend(best_friend(best_friend(best_friend(best_friend(c_x))))))), c_x) /\\\\ ~Loves(best_friend(best_friend(best_friend(best_friend(best_friend(best_friend(best_friend(c_x))))))), best_friend(c_x))>>\"\n",
      "Generating tuples for next level 8\n",
      "Adding new formula to set: \"<<Loves(best_friend(best_friend(best_friend(best_friend(best_friend(best_friend(best_friend(best_friend(c_x)))))))), c_x) /\\\\ ~Loves(best_friend(best_friend(best_friend(best_friend(best_friend(best_friend(best_friend(best_friend(c_x)))))))), best_friend(c_x))>>\"\n",
      "Generating tuples for next level 9\n",
      "Adding new formula to set: \"<<Loves(best_friend(best_friend(best_friend(best_friend(best_friend(best_friend(best_friend(best_friend(best_friend(c_x))))))))), c_x) /\\\\ ~Loves(best_friend(best_friend(best_friend(best_friend(best_friend(best_friend(best_friend(best_friend(best_friend(c_x))))))))), best_friend(c_x))>>\"\n",
      "Generating tuples for next level 10\n",
      "Adding new formula to set: \"<<Loves(best_friend(best_friend(best_friend(best_friend(best_friend(best_friend(best_friend(best_friend(best_friend(best_friend(c_x)))))))))), c_x) /\\\\ ~Loves(best_friend(best_friend(best_friend(best_friend(best_friend(best_friend(best_friend(best_friend(best_friend(best_friend(c_x)))))))))), best_friend(c_x))>>\"\n",
      "Generating tuples for next level 11\n",
      "Adding new formula to set: \"<<Loves(best_friend(best_friend(best_friend(best_friend(best_friend(best_friend(best_friend(best_friend(best_friend(best_friend(best_friend(c_x))))))))))), c_x) /\\\\ ~Loves(best_friend(best_friend(best_friend(best_friend(best_friend(best_friend(best_friend(best_friend(best_friend(best_friend(best_friend(c_x))))))))))), best_friend(c_x))>>\"\n",
      "Generating tuples for next level 12\n",
      "Adding new formula to set: \"<<Loves(best_friend(best_friend(best_friend(best_friend(best_friend(best_friend(best_friend(best_friend(best_friend(best_friend(best_friend(best_friend(c_x)))))))))))), c_x) /\\\\ ~Loves(best_friend(best_friend(best_friend(best_friend(best_friend(best_friend(best_friend(best_friend(best_friend(best_friend(best_friend(best_friend(c_x)))))))))))), best_friend(c_x))>>\"\n",
      "Generating tuples for next level 13\n",
      "Adding new formula to set: \"<<Loves(best_friend(best_friend(best_friend(best_friend(best_friend(best_friend(best_friend(best_friend(best_friend(best_friend(best_friend(best_friend(best_friend(c_x))))))))))))), c_x) /\\\\ ~Loves(best_friend(best_friend(best_friend(best_friend(best_friend(best_friend(best_friend(best_friend(best_friend(best_friend(best_friend(best_friend(best_friend(c_x))))))))))))), best_friend(c_x))>>\"\n",
      "Generating tuples for next level 14\n",
      "Adding new formula to set: \"<<Loves(best_friend(best_friend(best_friend(best_friend(best_friend(best_friend(best_friend(best_friend(best_friend(best_friend(best_friend(best_friend(best_friend(best_friend(c_x)))))))))))))), c_x) /\\\\ ~Loves(best_friend(best_friend(best_friend(best_friend(best_friend(best_friend(best_friend(best_friend(best_friend(best_friend(best_friend(best_friend(best_friend(best_friend(c_x)))))))))))))), best_friend(c_x))>>\"\n",
      "Generating tuples for next level 15\n",
      "Adding new formula to set: \"<<Loves(best_friend(best_friend(best_friend(best_friend(best_friend(best_friend(best_friend(best_friend(best_friend(best_friend(best_friend(best_friend(best_friend(best_friend(best_friend(c_x))))))))))))))), c_x) /\\\\ ~Loves(best_friend(best_friend(best_friend(best_friend(best_friend(best_friend(best_friend(best_friend(best_friend(best_friend(best_friend(best_friend(best_friend(best_friend(best_friend(c_x))))))))))))))), best_friend(c_x))>>\"\n",
      "Generating tuples for next level 16\n",
      "Adding new formula to set: \"<<Loves(best_friend(best_friend(best_friend(best_friend(best_friend(best_friend(best_friend(best_friend(best_friend(best_friend(best_friend(best_friend(best_friend(best_friend(best_friend(best_friend(c_x)))))))))))))))), c_x) /\\\\ ~Loves(best_friend(best_friend(best_friend(best_friend(best_friend(best_friend(best_friend(best_friend(best_friend(best_friend(best_friend(best_friend(best_friend(best_friend(best_friend(best_friend(c_x)))))))))))))))), best_friend(c_x))>>\"\n",
      "Generating tuples for next level 17\n",
      "Adding new formula to set: \"<<Loves(best_friend(best_friend(best_friend(best_friend(best_friend(best_friend(best_friend(best_friend(best_friend(best_friend(best_friend(best_friend(best_friend(best_friend(best_friend(best_friend(best_friend(c_x))))))))))))))))), c_x) /\\\\ ~Loves(best_friend(best_friend(best_friend(best_friend(best_friend(best_friend(best_friend(best_friend(best_friend(best_friend(best_friend(best_friend(best_friend(best_friend(best_friend(best_friend(best_friend(c_x))))))))))))))))), best_friend(c_x))>>\"\n",
      "Generating tuples for next level 18\n",
      "Adding new formula to set: \"<<Loves(best_friend(best_friend(best_friend(best_friend(best_friend(best_friend(best_friend(best_friend(best_friend(best_friend(best_friend(best_friend(best_friend(best_friend(best_friend(best_friend(best_friend(best_friend(c_x)))))))))))))))))), c_x) /\\\\ ~Loves(best_friend(best_friend(best_friend(best_friend(best_friend(best_friend(best_friend(best_friend(best_friend(best_friend(best_friend(best_friend(best_friend(best_friend(best_friend(best_friend(best_friend(best_friend(c_x)))))))))))))))))), best_friend(c_x))>>\"\n",
      "Generating tuples for next level 19\n",
      "Adding new formula to set: \"<<Loves(best_friend(best_friend(best_friend(best_friend(best_friend(best_friend(best_friend(best_friend(best_friend(best_friend(best_friend(best_friend(best_friend(best_friend(best_friend(best_friend(best_friend(best_friend(best_friend(c_x))))))))))))))))))), c_x) /\\\\ ~Loves(best_friend(best_friend(best_friend(best_friend(best_friend(best_friend(best_friend(best_friend(best_friend(best_friend(best_friend(best_friend(best_friend(best_friend(best_friend(best_friend(best_friend(best_friend(best_friend(c_x))))))))))))))))))), best_friend(c_x))>>\"\n",
      "Generating tuples for next level 20\n",
      "Adding new formula to set: \"<<Loves(best_friend(best_friend(best_friend(best_friend(best_friend(best_friend(best_friend(best_friend(best_friend(best_friend(best_friend(best_friend(best_friend(best_friend(best_friend(best_friend(best_friend(best_friend(best_friend(best_friend(c_x)))))))))))))))))))), c_x) /\\\\ ~Loves(best_friend(best_friend(best_friend(best_friend(best_friend(best_friend(best_friend(best_friend(best_friend(best_friend(best_friend(best_friend(best_friend(best_friend(best_friend(best_friend(best_friend(best_friend(best_friend(best_friend(c_x)))))))))))))))))))), best_friend(c_x))>>\"\n",
      "Generating tuples for next level 21\n",
      "Adding new formula to set: \"<<Loves(best_friend(best_friend(best_friend(best_friend(best_friend(best_friend(best_friend(best_friend(best_friend(best_friend(best_friend(best_friend(best_friend(best_friend(best_friend(best_friend(best_friend(best_friend(best_friend(best_friend(best_friend(c_x))))))))))))))))))))), c_x) /\\\\ ~Loves(best_friend(best_friend(best_friend(best_friend(best_friend(best_friend(best_friend(best_friend(best_friend(best_friend(best_friend(best_friend(best_friend(best_friend(best_friend(best_friend(best_friend(best_friend(best_friend(best_friend(best_friend(c_x))))))))))))))))))))), best_friend(c_x))>>\"\n",
      "Generating tuples for next level 22\n",
      "Adding new formula to set: \"<<Loves(best_friend(best_friend(best_friend(best_friend(best_friend(best_friend(best_friend(best_friend(best_friend(best_friend(best_friend(best_friend(best_friend(best_friend(best_friend(best_friend(best_friend(best_friend(best_friend(best_friend(best_friend(best_friend(c_x)))))))))))))))))))))), c_x) /\\\\ ~Loves(best_friend(best_friend(best_friend(best_friend(best_friend(best_friend(best_friend(best_friend(best_friend(best_friend(best_friend(best_friend(best_friend(best_friend(best_friend(best_friend(best_friend(best_friend(best_friend(best_friend(best_friend(best_friend(c_x)))))))))))))))))))))), best_friend(c_x))>>\"\n",
      "Generating tuples for next level 23\n",
      "Adding new formula to set: \"<<Loves(best_friend(best_friend(best_friend(best_friend(best_friend(best_friend(best_friend(best_friend(best_friend(best_friend(best_friend(best_friend(best_friend(best_friend(best_friend(best_friend(best_friend(best_friend(best_friend(best_friend(best_friend(best_friend(best_friend(c_x))))))))))))))))))))))), c_x) /\\\\ ~Loves(best_friend(best_friend(best_friend(best_friend(best_friend(best_friend(best_friend(best_friend(best_friend(best_friend(best_friend(best_friend(best_friend(best_friend(best_friend(best_friend(best_friend(best_friend(best_friend(best_friend(best_friend(best_friend(best_friend(c_x))))))))))))))))))))))), best_friend(c_x))>>\"\n",
      "Generating tuples for next level 24\n",
      "Adding new formula to set: \"<<Loves(best_friend(best_friend(best_friend(best_friend(best_friend(best_friend(best_friend(best_friend(best_friend(best_friend(best_friend(best_friend(best_friend(best_friend(best_friend(best_friend(best_friend(best_friend(best_friend(best_friend(best_friend(best_friend(best_friend(best_friend(c_x)))))))))))))))))))))))), c_x) /\\\\ ~Loves(best_friend(best_friend(best_friend(best_friend(best_friend(best_friend(best_friend(best_friend(best_friend(best_friend(best_friend(best_friend(best_friend(best_friend(best_friend(best_friend(best_friend(best_friend(best_friend(best_friend(best_friend(best_friend(best_friend(best_friend(c_x)))))))))))))))))))))))), best_friend(c_x))>>\"\n",
      "Generating tuples for next level 25\n",
      "Adding new formula to set: \"<<Loves(best_friend(best_friend(best_friend(best_friend(best_friend(best_friend(best_friend(best_friend(best_friend(best_friend(best_friend(best_friend(best_friend(best_friend(best_friend(best_friend(best_friend(best_friend(best_friend(best_friend(best_friend(best_friend(best_friend(best_friend(best_friend(c_x))))))))))))))))))))))))), c_x) /\\\\ ~Loves(best_friend(best_friend(best_friend(best_friend(best_friend(best_friend(best_friend(best_friend(best_friend(best_friend(best_friend(best_friend(best_friend(best_friend(best_friend(best_friend(best_friend(best_friend(best_friend(best_friend(best_friend(best_friend(best_friend(best_friend(best_friend(c_x))))))))))))))))))))))))), best_friend(c_x))>>\"\n",
      "Generating tuples for next level 26\n",
      "Adding new formula to set: \"<<Loves(best_friend(best_friend(best_friend(best_friend(best_friend(best_friend(best_friend(best_friend(best_friend(best_friend(best_friend(best_friend(best_friend(best_friend(best_friend(best_friend(best_friend(best_friend(best_friend(best_friend(best_friend(best_friend(best_friend(best_friend(best_friend(best_friend(c_x)))))))))))))))))))))))))), c_x) /\\\\ ~Loves(best_friend(best_friend(best_friend(best_friend(best_friend(best_friend(best_friend(best_friend(best_friend(best_friend(best_friend(best_friend(best_friend(best_friend(best_friend(best_friend(best_friend(best_friend(best_friend(best_friend(best_friend(best_friend(best_friend(best_friend(best_friend(best_friend(c_x)))))))))))))))))))))))))), best_friend(c_x))>>\"\n",
      "Generating tuples for next level 27\n",
      "Adding new formula to set: \"<<Loves(best_friend(best_friend(best_friend(best_friend(best_friend(best_friend(best_friend(best_friend(best_friend(best_friend(best_friend(best_friend(best_friend(best_friend(best_friend(best_friend(best_friend(best_friend(best_friend(best_friend(best_friend(best_friend(best_friend(best_friend(best_friend(best_friend(best_friend(c_x))))))))))))))))))))))))))), c_x) /\\\\ ~Loves(best_friend(best_friend(best_friend(best_friend(best_friend(best_friend(best_friend(best_friend(best_friend(best_friend(best_friend(best_friend(best_friend(best_friend(best_friend(best_friend(best_friend(best_friend(best_friend(best_friend(best_friend(best_friend(best_friend(best_friend(best_friend(best_friend(best_friend(c_x))))))))))))))))))))))))))), best_friend(c_x))>>\"\n",
      "Generating tuples for next level 28\n",
      "Adding new formula to set: \"<<Loves(best_friend(best_friend(best_friend(best_friend(best_friend(best_friend(best_friend(best_friend(best_friend(best_friend(best_friend(best_friend(best_friend(best_friend(best_friend(best_friend(best_friend(best_friend(best_friend(best_friend(best_friend(best_friend(best_friend(best_friend(best_friend(best_friend(best_friend(best_friend(c_x)))))))))))))))))))))))))))), c_x) /\\\\ ~Loves(best_friend(best_friend(best_friend(best_friend(best_friend(best_friend(best_friend(best_friend(best_friend(best_friend(best_friend(best_friend(best_friend(best_friend(best_friend(best_friend(best_friend(best_friend(best_friend(best_friend(best_friend(best_friend(best_friend(best_friend(best_friend(best_friend(best_friend(best_friend(c_x)))))))))))))))))))))))))))), best_friend(c_x))>>\"\n",
      "Generating tuples for next level 29\n",
      "Adding new formula to set: \"<<Loves(best_friend(best_friend(best_friend(best_friend(best_friend(best_friend(best_friend(best_friend(best_friend(best_friend(best_friend(best_friend(best_friend(best_friend(best_friend(best_friend(best_friend(best_friend(best_friend(best_friend(best_friend(best_friend(best_friend(best_friend(best_friend(best_friend(best_friend(best_friend(best_friend(c_x))))))))))))))))))))))))))))), c_x) /\\\\ ~Loves(best_friend(best_friend(best_friend(best_friend(best_friend(best_friend(best_friend(best_friend(best_friend(best_friend(best_friend(best_friend(best_friend(best_friend(best_friend(best_friend(best_friend(best_friend(best_friend(best_friend(best_friend(best_friend(best_friend(best_friend(best_friend(best_friend(best_friend(best_friend(best_friend(c_x))))))))))))))))))))))))))))), best_friend(c_x))>>\"\n",
      "Generating tuples for next level 30\n",
      "Adding new formula to set: \"<<Loves(best_friend(best_friend(best_friend(best_friend(best_friend(best_friend(best_friend(best_friend(best_friend(best_friend(best_friend(best_friend(best_friend(best_friend(best_friend(best_friend(best_friend(best_friend(best_friend(best_friend(best_friend(best_friend(best_friend(best_friend(best_friend(best_friend(best_friend(best_friend(best_friend(best_friend(c_x)))))))))))))))))))))))))))))), c_x) /\\\\ ~Loves(best_friend(best_friend(best_friend(best_friend(best_friend(best_friend(best_friend(best_friend(best_friend(best_friend(best_friend(best_friend(best_friend(best_friend(best_friend(best_friend(best_friend(best_friend(best_friend(best_friend(best_friend(best_friend(best_friend(best_friend(best_friend(best_friend(best_friend(best_friend(best_friend(best_friend(c_x)))))))))))))))))))))))))))))), best_friend(c_x))>>\"\n",
      "Generating tuples for next level 31\n",
      "Adding new formula to set: \"<<Loves(best_friend(best_friend(best_friend(best_friend(best_friend(best_friend(best_friend(best_friend(best_friend(best_friend(best_friend(best_friend(best_friend(best_friend(best_friend(best_friend(best_friend(best_friend(best_friend(best_friend(best_friend(best_friend(best_friend(best_friend(best_friend(best_friend(best_friend(best_friend(best_friend(best_friend(best_friend(c_x))))))))))))))))))))))))))))))), c_x) /\\\\ ~Loves(best_friend(best_friend(best_friend(best_friend(best_friend(best_friend(best_friend(best_friend(best_friend(best_friend(best_friend(best_friend(best_friend(best_friend(best_friend(best_friend(best_friend(best_friend(best_friend(best_friend(best_friend(best_friend(best_friend(best_friend(best_friend(best_friend(best_friend(best_friend(best_friend(best_friend(best_friend(c_x))))))))))))))))))))))))))))))), best_friend(c_x))>>\"\n",
      "Generating tuples for next level 32\n",
      "Adding new formula to set: \"<<Loves(best_friend(best_friend(best_friend(best_friend(best_friend(best_friend(best_friend(best_friend(best_friend(best_friend(best_friend(best_friend(best_friend(best_friend(best_friend(best_friend(best_friend(best_friend(best_friend(best_friend(best_friend(best_friend(best_friend(best_friend(best_friend(best_friend(best_friend(best_friend(best_friend(best_friend(best_friend(best_friend(c_x)))))))))))))))))))))))))))))))), c_x) /\\\\ ~Loves(best_friend(best_friend(best_friend(best_friend(best_friend(best_friend(best_friend(best_friend(best_friend(best_friend(best_friend(best_friend(best_friend(best_friend(best_friend(best_friend(best_friend(best_friend(best_friend(best_friend(best_friend(best_friend(best_friend(best_friend(best_friend(best_friend(best_friend(best_friend(best_friend(best_friend(best_friend(best_friend(c_x)))))))))))))))))))))))))))))))), best_friend(c_x))>>\"\n",
      "Generating tuples for next level 33\n",
      "Adding new formula to set: \"<<Loves(best_friend(best_friend(best_friend(best_friend(best_friend(best_friend(best_friend(best_friend(best_friend(best_friend(best_friend(best_friend(best_friend(best_friend(best_friend(best_friend(best_friend(best_friend(best_friend(best_friend(best_friend(best_friend(best_friend(best_friend(best_friend(best_friend(best_friend(best_friend(best_friend(best_friend(best_friend(best_friend(best_friend(c_x))))))))))))))))))))))))))))))))), c_x) /\\\\ ~Loves(best_friend(best_friend(best_friend(best_friend(best_friend(best_friend(best_friend(best_friend(best_friend(best_friend(best_friend(best_friend(best_friend(best_friend(best_friend(best_friend(best_friend(best_friend(best_friend(best_friend(best_friend(best_friend(best_friend(best_friend(best_friend(best_friend(best_friend(best_friend(best_friend(best_friend(best_friend(best_friend(best_friend(c_x))))))))))))))))))))))))))))))))), best_friend(c_x))>>\"\n",
      "Generating tuples for next level 34\n",
      "Adding new formula to set: \"<<Loves(best_friend(best_friend(best_friend(best_friend(best_friend(best_friend(best_friend(best_friend(best_friend(best_friend(best_friend(best_friend(best_friend(best_friend(best_friend(best_friend(best_friend(best_friend(best_friend(best_friend(best_friend(best_friend(best_friend(best_friend(best_friend(best_friend(best_friend(best_friend(best_friend(best_friend(best_friend(best_friend(best_friend(best_friend(c_x)))))))))))))))))))))))))))))))))), c_x) /\\\\ ~Loves(best_friend(best_friend(best_friend(best_friend(best_friend(best_friend(best_friend(best_friend(best_friend(best_friend(best_friend(best_friend(best_friend(best_friend(best_friend(best_friend(best_friend(best_friend(best_friend(best_friend(best_friend(best_friend(best_friend(best_friend(best_friend(best_friend(best_friend(best_friend(best_friend(best_friend(best_friend(best_friend(best_friend(best_friend(c_x)))))))))))))))))))))))))))))))))), best_friend(c_x))>>\"\n",
      "Generating tuples for next level 35\n",
      "Adding new formula to set: \"<<Loves(best_friend(best_friend(best_friend(best_friend(best_friend(best_friend(best_friend(best_friend(best_friend(best_friend(best_friend(best_friend(best_friend(best_friend(best_friend(best_friend(best_friend(best_friend(best_friend(best_friend(best_friend(best_friend(best_friend(best_friend(best_friend(best_friend(best_friend(best_friend(best_friend(best_friend(best_friend(best_friend(best_friend(best_friend(best_friend(c_x))))))))))))))))))))))))))))))))))), c_x) /\\\\ ~Loves(best_friend(best_friend(best_friend(best_friend(best_friend(best_friend(best_friend(best_friend(best_friend(best_friend(best_friend(best_friend(best_friend(best_friend(best_friend(best_friend(best_friend(best_friend(best_friend(best_friend(best_friend(best_friend(best_friend(best_friend(best_friend(best_friend(best_friend(best_friend(best_friend(best_friend(best_friend(best_friend(best_friend(best_friend(best_friend(c_x))))))))))))))))))))))))))))))))))), best_friend(c_x))>>\"\n",
      "Generating tuples for next level 36\n",
      "Adding new formula to set: \"<<Loves(best_friend(best_friend(best_friend(best_friend(best_friend(best_friend(best_friend(best_friend(best_friend(best_friend(best_friend(best_friend(best_friend(best_friend(best_friend(best_friend(best_friend(best_friend(best_friend(best_friend(best_friend(best_friend(best_friend(best_friend(best_friend(best_friend(best_friend(best_friend(best_friend(best_friend(best_friend(best_friend(best_friend(best_friend(best_friend(best_friend(c_x)))))))))))))))))))))))))))))))))))), c_x) /\\\\ ~Loves(best_friend(best_friend(best_friend(best_friend(best_friend(best_friend(best_friend(best_friend(best_friend(best_friend(best_friend(best_friend(best_friend(best_friend(best_friend(best_friend(best_friend(best_friend(best_friend(best_friend(best_friend(best_friend(best_friend(best_friend(best_friend(best_friend(best_friend(best_friend(best_friend(best_friend(best_friend(best_friend(best_friend(best_friend(best_friend(best_friend(c_x)))))))))))))))))))))))))))))))))))), best_friend(c_x))>>\"\n",
      "Generating tuples for next level 37\n",
      "Adding new formula to set: \"<<Loves(best_friend(best_friend(best_friend(best_friend(best_friend(best_friend(best_friend(best_friend(best_friend(best_friend(best_friend(best_friend(best_friend(best_friend(best_friend(best_friend(best_friend(best_friend(best_friend(best_friend(best_friend(best_friend(best_friend(best_friend(best_friend(best_friend(best_friend(best_friend(best_friend(best_friend(best_friend(best_friend(best_friend(best_friend(best_friend(best_friend(best_friend(c_x))))))))))))))))))))))))))))))))))))), c_x) /\\\\ ~Loves(best_friend(best_friend(best_friend(best_friend(best_friend(best_friend(best_friend(best_friend(best_friend(best_friend(best_friend(best_friend(best_friend(best_friend(best_friend(best_friend(best_friend(best_friend(best_friend(best_friend(best_friend(best_friend(best_friend(best_friend(best_friend(best_friend(best_friend(best_friend(best_friend(best_friend(best_friend(best_friend(best_friend(best_friend(best_friend(best_friend(best_friend(c_x))))))))))))))))))))))))))))))))))))), best_friend(c_x))>>\"\n",
      "Generating tuples for next level 38\n",
      "Adding new formula to set: \"<<Loves(best_friend(best_friend(best_friend(best_friend(best_friend(best_friend(best_friend(best_friend(best_friend(best_friend(best_friend(best_friend(best_friend(best_friend(best_friend(best_friend(best_friend(best_friend(best_friend(best_friend(best_friend(best_friend(best_friend(best_friend(best_friend(best_friend(best_friend(best_friend(best_friend(best_friend(best_friend(best_friend(best_friend(best_friend(best_friend(best_friend(best_friend(best_friend(c_x)))))))))))))))))))))))))))))))))))))), c_x) /\\\\ ~Loves(best_friend(best_friend(best_friend(best_friend(best_friend(best_friend(best_friend(best_friend(best_friend(best_friend(best_friend(best_friend(best_friend(best_friend(best_friend(best_friend(best_friend(best_friend(best_friend(best_friend(best_friend(best_friend(best_friend(best_friend(best_friend(best_friend(best_friend(best_friend(best_friend(best_friend(best_friend(best_friend(best_friend(best_friend(best_friend(best_friend(best_friend(best_friend(c_x)))))))))))))))))))))))))))))))))))))), best_friend(c_x))>>\"\n",
      "Generating tuples for next level 39\n",
      "Adding new formula to set: \"<<Loves(best_friend(best_friend(best_friend(best_friend(best_friend(best_friend(best_friend(best_friend(best_friend(best_friend(best_friend(best_friend(best_friend(best_friend(best_friend(best_friend(best_friend(best_friend(best_friend(best_friend(best_friend(best_friend(best_friend(best_friend(best_friend(best_friend(best_friend(best_friend(best_friend(best_friend(best_friend(best_friend(best_friend(best_friend(best_friend(best_friend(best_friend(best_friend(best_friend(c_x))))))))))))))))))))))))))))))))))))))), c_x) /\\\\ ~Loves(best_friend(best_friend(best_friend(best_friend(best_friend(best_friend(best_friend(best_friend(best_friend(best_friend(best_friend(best_friend(best_friend(best_friend(best_friend(best_friend(best_friend(best_friend(best_friend(best_friend(best_friend(best_friend(best_friend(best_friend(best_friend(best_friend(best_friend(best_friend(best_friend(best_friend(best_friend(best_friend(best_friend(best_friend(best_friend(best_friend(best_friend(best_friend(best_friend(c_x))))))))))))))))))))))))))))))))))))))), best_friend(c_x))>>\"\n",
      "Generating tuples for next level 40\n",
      "Adding new formula to set: \"<<Loves(best_friend(best_friend(best_friend(best_friend(best_friend(best_friend(best_friend(best_friend(best_friend(best_friend(best_friend(best_friend(best_friend(best_friend(best_friend(best_friend(best_friend(best_friend(best_friend(best_friend(best_friend(best_friend(best_friend(best_friend(best_friend(best_friend(best_friend(best_friend(best_friend(best_friend(best_friend(best_friend(best_friend(best_friend(best_friend(best_friend(best_friend(best_friend(best_friend(best_friend(c_x)))))))))))))))))))))))))))))))))))))))), c_x) /\\\\ ~Loves(best_friend(best_friend(best_friend(best_friend(best_friend(best_friend(best_friend(best_friend(best_friend(best_friend(best_friend(best_friend(best_friend(best_friend(best_friend(best_friend(best_friend(best_friend(best_friend(best_friend(best_friend(best_friend(best_friend(best_friend(best_friend(best_friend(best_friend(best_friend(best_friend(best_friend(best_friend(best_friend(best_friend(best_friend(best_friend(best_friend(best_friend(best_friend(best_friend(best_friend(c_x)))))))))))))))))))))))))))))))))))))))), best_friend(c_x))>>\"\n",
      "Generating tuples for next level 41\n",
      "Adding new formula to set: \"<<Loves(best_friend(best_friend(best_friend(best_friend(best_friend(best_friend(best_friend(best_friend(best_friend(best_friend(best_friend(best_friend(best_friend(best_friend(best_friend(best_friend(best_friend(best_friend(best_friend(best_friend(best_friend(best_friend(best_friend(best_friend(best_friend(best_friend(best_friend(best_friend(best_friend(best_friend(best_friend(best_friend(best_friend(best_friend(best_friend(best_friend(best_friend(best_friend(best_friend(best_friend(best_friend(c_x))))))))))))))))))))))))))))))))))))))))), c_x) /\\\\ ~Loves(best_friend(best_friend(best_friend(best_friend(best_friend(best_friend(best_friend(best_friend(best_friend(best_friend(best_friend(best_friend(best_friend(best_friend(best_friend(best_friend(best_friend(best_friend(best_friend(best_friend(best_friend(best_friend(best_friend(best_friend(best_friend(best_friend(best_friend(best_friend(best_friend(best_friend(best_friend(best_friend(best_friend(best_friend(best_friend(best_friend(best_friend(best_friend(best_friend(best_friend(best_friend(c_x))))))))))))))))))))))))))))))))))))))))), best_friend(c_x))>>\"\n",
      "Generating tuples for next level 42\n",
      "Adding new formula to set: \"<<Loves(best_friend(best_friend(best_friend(best_friend(best_friend(best_friend(best_friend(best_friend(best_friend(best_friend(best_friend(best_friend(best_friend(best_friend(best_friend(best_friend(best_friend(best_friend(best_friend(best_friend(best_friend(best_friend(best_friend(best_friend(best_friend(best_friend(best_friend(best_friend(best_friend(best_friend(best_friend(best_friend(best_friend(best_friend(best_friend(best_friend(best_friend(best_friend(best_friend(best_friend(best_friend(best_friend(c_x)))))))))))))))))))))))))))))))))))))))))), c_x) /\\\\ ~Loves(best_friend(best_friend(best_friend(best_friend(best_friend(best_friend(best_friend(best_friend(best_friend(best_friend(best_friend(best_friend(best_friend(best_friend(best_friend(best_friend(best_friend(best_friend(best_friend(best_friend(best_friend(best_friend(best_friend(best_friend(best_friend(best_friend(best_friend(best_friend(best_friend(best_friend(best_friend(best_friend(best_friend(best_friend(best_friend(best_friend(best_friend(best_friend(best_friend(best_friend(best_friend(best_friend(c_x)))))))))))))))))))))))))))))))))))))))))), best_friend(c_x))>>\"\n",
      "Generating tuples for next level 43\n",
      "Adding new formula to set: \"<<Loves(best_friend(best_friend(best_friend(best_friend(best_friend(best_friend(best_friend(best_friend(best_friend(best_friend(best_friend(best_friend(best_friend(best_friend(best_friend(best_friend(best_friend(best_friend(best_friend(best_friend(best_friend(best_friend(best_friend(best_friend(best_friend(best_friend(best_friend(best_friend(best_friend(best_friend(best_friend(best_friend(best_friend(best_friend(best_friend(best_friend(best_friend(best_friend(best_friend(best_friend(best_friend(best_friend(best_friend(c_x))))))))))))))))))))))))))))))))))))))))))), c_x) /\\\\ ~Loves(best_friend(best_friend(best_friend(best_friend(best_friend(best_friend(best_friend(best_friend(best_friend(best_friend(best_friend(best_friend(best_friend(best_friend(best_friend(best_friend(best_friend(best_friend(best_friend(best_friend(best_friend(best_friend(best_friend(best_friend(best_friend(best_friend(best_friend(best_friend(best_friend(best_friend(best_friend(best_friend(best_friend(best_friend(best_friend(best_friend(best_friend(best_friend(best_friend(best_friend(best_friend(best_friend(best_friend(c_x))))))))))))))))))))))))))))))))))))))))))), best_friend(c_x))>>\"\n",
      "Generating tuples for next level 44\n",
      "Adding new formula to set: \"<<Loves(best_friend(best_friend(best_friend(best_friend(best_friend(best_friend(best_friend(best_friend(best_friend(best_friend(best_friend(best_friend(best_friend(best_friend(best_friend(best_friend(best_friend(best_friend(best_friend(best_friend(best_friend(best_friend(best_friend(best_friend(best_friend(best_friend(best_friend(best_friend(best_friend(best_friend(best_friend(best_friend(best_friend(best_friend(best_friend(best_friend(best_friend(best_friend(best_friend(best_friend(best_friend(best_friend(best_friend(best_friend(c_x)))))))))))))))))))))))))))))))))))))))))))), c_x) /\\\\ ~Loves(best_friend(best_friend(best_friend(best_friend(best_friend(best_friend(best_friend(best_friend(best_friend(best_friend(best_friend(best_friend(best_friend(best_friend(best_friend(best_friend(best_friend(best_friend(best_friend(best_friend(best_friend(best_friend(best_friend(best_friend(best_friend(best_friend(best_friend(best_friend(best_friend(best_friend(best_friend(best_friend(best_friend(best_friend(best_friend(best_friend(best_friend(best_friend(best_friend(best_friend(best_friend(best_friend(best_friend(best_friend(c_x)))))))))))))))))))))))))))))))))))))))))))), best_friend(c_x))>>\"\n",
      "Generating tuples for next level 45\n",
      "Adding new formula to set: \"<<Loves(best_friend(best_friend(best_friend(best_friend(best_friend(best_friend(best_friend(best_friend(best_friend(best_friend(best_friend(best_friend(best_friend(best_friend(best_friend(best_friend(best_friend(best_friend(best_friend(best_friend(best_friend(best_friend(best_friend(best_friend(best_friend(best_friend(best_friend(best_friend(best_friend(best_friend(best_friend(best_friend(best_friend(best_friend(best_friend(best_friend(best_friend(best_friend(best_friend(best_friend(best_friend(best_friend(best_friend(best_friend(best_friend(c_x))))))))))))))))))))))))))))))))))))))))))))), c_x) /\\\\ ~Loves(best_friend(best_friend(best_friend(best_friend(best_friend(best_friend(best_friend(best_friend(best_friend(best_friend(best_friend(best_friend(best_friend(best_friend(best_friend(best_friend(best_friend(best_friend(best_friend(best_friend(best_friend(best_friend(best_friend(best_friend(best_friend(best_friend(best_friend(best_friend(best_friend(best_friend(best_friend(best_friend(best_friend(best_friend(best_friend(best_friend(best_friend(best_friend(best_friend(best_friend(best_friend(best_friend(best_friend(best_friend(best_friend(c_x))))))))))))))))))))))))))))))))))))))))))))), best_friend(c_x))>>\"\n",
      "Generating tuples for next level 46\n",
      "Adding new formula to set: \"<<Loves(best_friend(best_friend(best_friend(best_friend(best_friend(best_friend(best_friend(best_friend(best_friend(best_friend(best_friend(best_friend(best_friend(best_friend(best_friend(best_friend(best_friend(best_friend(best_friend(best_friend(best_friend(best_friend(best_friend(best_friend(best_friend(best_friend(best_friend(best_friend(best_friend(best_friend(best_friend(best_friend(best_friend(best_friend(best_friend(best_friend(best_friend(best_friend(best_friend(best_friend(best_friend(best_friend(best_friend(best_friend(best_friend(best_friend(c_x)))))))))))))))))))))))))))))))))))))))))))))), c_x) /\\\\ ~Loves(best_friend(best_friend(best_friend(best_friend(best_friend(best_friend(best_friend(best_friend(best_friend(best_friend(best_friend(best_friend(best_friend(best_friend(best_friend(best_friend(best_friend(best_friend(best_friend(best_friend(best_friend(best_friend(best_friend(best_friend(best_friend(best_friend(best_friend(best_friend(best_friend(best_friend(best_friend(best_friend(best_friend(best_friend(best_friend(best_friend(best_friend(best_friend(best_friend(best_friend(best_friend(best_friend(best_friend(best_friend(best_friend(best_friend(c_x)))))))))))))))))))))))))))))))))))))))))))))), best_friend(c_x))>>\"\n",
      "Generating tuples for next level 47\n",
      "Adding new formula to set: \"<<Loves(best_friend(best_friend(best_friend(best_friend(best_friend(best_friend(best_friend(best_friend(best_friend(best_friend(best_friend(best_friend(best_friend(best_friend(best_friend(best_friend(best_friend(best_friend(best_friend(best_friend(best_friend(best_friend(best_friend(best_friend(best_friend(best_friend(best_friend(best_friend(best_friend(best_friend(best_friend(best_friend(best_friend(best_friend(best_friend(best_friend(best_friend(best_friend(best_friend(best_friend(best_friend(best_friend(best_friend(best_friend(best_friend(best_friend(best_friend(c_x))))))))))))))))))))))))))))))))))))))))))))))), c_x) /\\\\ ~Loves(best_friend(best_friend(best_friend(best_friend(best_friend(best_friend(best_friend(best_friend(best_friend(best_friend(best_friend(best_friend(best_friend(best_friend(best_friend(best_friend(best_friend(best_friend(best_friend(best_friend(best_friend(best_friend(best_friend(best_friend(best_friend(best_friend(best_friend(best_friend(best_friend(best_friend(best_friend(best_friend(best_friend(best_friend(best_friend(best_friend(best_friend(best_friend(best_friend(best_friend(best_friend(best_friend(best_friend(best_friend(best_friend(best_friend(best_friend(c_x))))))))))))))))))))))))))))))))))))))))))))))), best_friend(c_x))>>\"\n",
      "Generating tuples for next level 48\n",
      "Adding new formula to set: \"<<Loves(best_friend(best_friend(best_friend(best_friend(best_friend(best_friend(best_friend(best_friend(best_friend(best_friend(best_friend(best_friend(best_friend(best_friend(best_friend(best_friend(best_friend(best_friend(best_friend(best_friend(best_friend(best_friend(best_friend(best_friend(best_friend(best_friend(best_friend(best_friend(best_friend(best_friend(best_friend(best_friend(best_friend(best_friend(best_friend(best_friend(best_friend(best_friend(best_friend(best_friend(best_friend(best_friend(best_friend(best_friend(best_friend(best_friend(best_friend(best_friend(c_x)))))))))))))))))))))))))))))))))))))))))))))))), c_x) /\\\\ ~Loves(best_friend(best_friend(best_friend(best_friend(best_friend(best_friend(best_friend(best_friend(best_friend(best_friend(best_friend(best_friend(best_friend(best_friend(best_friend(best_friend(best_friend(best_friend(best_friend(best_friend(best_friend(best_friend(best_friend(best_friend(best_friend(best_friend(best_friend(best_friend(best_friend(best_friend(best_friend(best_friend(best_friend(best_friend(best_friend(best_friend(best_friend(best_friend(best_friend(best_friend(best_friend(best_friend(best_friend(best_friend(best_friend(best_friend(best_friend(best_friend(c_x)))))))))))))))))))))))))))))))))))))))))))))))), best_friend(c_x))>>\"\n",
      "Generating tuples for next level 49\n",
      "Adding new formula to set: \"<<Loves(best_friend(best_friend(best_friend(best_friend(best_friend(best_friend(best_friend(best_friend(best_friend(best_friend(best_friend(best_friend(best_friend(best_friend(best_friend(best_friend(best_friend(best_friend(best_friend(best_friend(best_friend(best_friend(best_friend(best_friend(best_friend(best_friend(best_friend(best_friend(best_friend(best_friend(best_friend(best_friend(best_friend(best_friend(best_friend(best_friend(best_friend(best_friend(best_friend(best_friend(best_friend(best_friend(best_friend(best_friend(best_friend(best_friend(best_friend(best_friend(best_friend(c_x))))))))))))))))))))))))))))))))))))))))))))))))), c_x) /\\\\ ~Loves(best_friend(best_friend(best_friend(best_friend(best_friend(best_friend(best_friend(best_friend(best_friend(best_friend(best_friend(best_friend(best_friend(best_friend(best_friend(best_friend(best_friend(best_friend(best_friend(best_friend(best_friend(best_friend(best_friend(best_friend(best_friend(best_friend(best_friend(best_friend(best_friend(best_friend(best_friend(best_friend(best_friend(best_friend(best_friend(best_friend(best_friend(best_friend(best_friend(best_friend(best_friend(best_friend(best_friend(best_friend(best_friend(best_friend(best_friend(best_friend(best_friend(c_x))))))))))))))))))))))))))))))))))))))))))))))))), best_friend(c_x))>>\"\n",
      "Generating tuples for next level 50\n",
      "Adding new formula to set: \"<<Loves(best_friend(best_friend(best_friend(best_friend(best_friend(best_friend(best_friend(best_friend(best_friend(best_friend(best_friend(best_friend(best_friend(best_friend(best_friend(best_friend(best_friend(best_friend(best_friend(best_friend(best_friend(best_friend(best_friend(best_friend(best_friend(best_friend(best_friend(best_friend(best_friend(best_friend(best_friend(best_friend(best_friend(best_friend(best_friend(best_friend(best_friend(best_friend(best_friend(best_friend(best_friend(best_friend(best_friend(best_friend(best_friend(best_friend(best_friend(best_friend(best_friend(best_friend(c_x)))))))))))))))))))))))))))))))))))))))))))))))))), c_x) /\\\\ ~Loves(best_friend(best_friend(best_friend(best_friend(best_friend(best_friend(best_friend(best_friend(best_friend(best_friend(best_friend(best_friend(best_friend(best_friend(best_friend(best_friend(best_friend(best_friend(best_friend(best_friend(best_friend(best_friend(best_friend(best_friend(best_friend(best_friend(best_friend(best_friend(best_friend(best_friend(best_friend(best_friend(best_friend(best_friend(best_friend(best_friend(best_friend(best_friend(best_friend(best_friend(best_friend(best_friend(best_friend(best_friend(best_friend(best_friend(best_friend(best_friend(best_friend(best_friend(c_x)))))))))))))))))))))))))))))))))))))))))))))))))), best_friend(c_x))>>\"\n",
      "After searching to bound depth 50, set of ground instances (of negation) is still satisfiable. Giving up.\n"
     ]
    },
    {
     "data": {
      "text/plain": [
       "BoundReached(50)"
      ]
     },
     "execution_count": 5,
     "metadata": {},
     "output_type": "execute_result"
    }
   ],
   "source": [
    "let string = \"forall x. exists y. (Loves(y, x) ==> Loves(y, best_friend(x)))\";\n",
    "let formula = Formula::<Pred>::parse(string).unwrap();\n",
    "let compute_unsat_core = true;\n",
    "let max_depth = 50;\n",
    "Formula::davis_putnam(&formula, compute_unsat_core, max_depth)"
   ]
  },
  {
   "cell_type": "markdown",
   "id": "04dd040c-1ed1-4b8b-a0c4-cd4ea8059deb",
   "metadata": {},
   "source": [
    "/////////////////////////////////////////////////////////////////////////////////////////////////////////////////////////////////////////////////////////////////////////////////////////////////////////////\n"
   ]
  },
  {
   "cell_type": "markdown",
   "id": "633ab4e8-8d45-4e41-a5fd-9f63cf9e4aa5",
   "metadata": {},
   "source": [
    "We can see that the negation of this formula:\n",
    "\n",
    "$$\\exists x \\forall y (Loves(y, x) \\wedge \\lnot Loves(y, best\\_friend(x)))$$\n",
    "\n",
    "is obviously satisfiable in a world where there is one very popular person that everyone loves, but who has a friend that not everyone loves."
   ]
  },
  {
   "cell_type": "markdown",
   "id": "5f80a3dc-94e9-48a1-ad6b-31ee62bdfea8",
   "metadata": {},
   "source": [
    "What about relational languages (ie. languages which no function symbols of positive arity)?  In this case the set of ground instances is finite, we we can hope to satisfy them all."
   ]
  },
  {
   "cell_type": "code",
   "execution_count": 5,
   "id": "1edd1674-4a2a-4f0e-91d0-5bb5836597e5",
   "metadata": {},
   "outputs": [
    {
     "name": "stdout",
     "output_type": "stream",
     "text": [
      "Generating tuples for next level 0\n",
      "Adding new formula to set: \"<<~P(c) /\\\\ ~R(c)>>\"\n",
      "Generating tuples for next level 1\n",
      "Set of ground instances (of negation) was both finite and satisfiable.  Invalidity proved.\n"
     ]
    },
    {
     "data": {
      "text/plain": [
       "InvalidityProved"
      ]
     },
     "execution_count": 5,
     "metadata": {},
     "output_type": "execute_result"
    }
   ],
   "source": [
    "use harrison_rust::formula::Formula;\n",
    "use harrison_rust::first_order_logic::Pred;\n",
    "\n",
    "let string = \"exists x y. (P(x) \\\\/ R(y))\";\n",
    "let formula = Formula::<Pred>::parse(string).unwrap();\n",
    "let compute_unsat_core = true;\n",
    "let max_depth = 10;\n",
    "Formula::davis_putnam(&formula, compute_unsat_core, max_depth)"
   ]
  },
  {
   "cell_type": "markdown",
   "id": "b9030f6c-a3ad-457f-87e5-5a2cd4d0af68",
   "metadata": {},
   "source": [
    "Note: You might think that you could also run a parallel process checking all models of the above language of increasing size looking for counterexamples. While this would indeed work for the example above, it does not work in general because there are first-order formulas which have counterexamples only in infinite models. For example consider the sentence expressing that every 1-1 function is onto:\n",
    "\n",
    "$$\\forall x, y (f(x) = f(y) \\rightarrow x = y)  \\rightarrow \\forall w \\exists z (f(z) = w)$$\n",
    "\n",
    "This sentence is true in all finite models (remember our functions are always defined on the entire domain) but need not be true in infinite models.  \n",
    "\n",
    "More generally, there is a very important theorem by Church says that no (full) decision procedure exists for first-order validity."
   ]
  }
 ],
 "metadata": {
  "kernelspec": {
   "display_name": "Rust",
   "language": "rust",
   "name": "rust"
  },
  "language_info": {
   "codemirror_mode": "rust",
   "file_extension": ".rs",
   "mimetype": "text/rust",
   "name": "Rust",
   "pygment_lexer": "rust",
   "version": ""
  }
 },
 "nbformat": 4,
 "nbformat_minor": 5
}
