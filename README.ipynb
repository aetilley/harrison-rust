{
 "cells": [
  {
   "cell_type": "markdown",
   "id": "6cb550d3-55bd-4f0f-9279-e759f1f81e00",
   "metadata": {},
   "source": [
    "A Rust library for SAT solving and automated theorem proving. This package is a work in progress, but the following are supported:\n",
    "\n",
    "1) datatypes/parsing/printing operations\n",
    "2) eval\n",
    "3) standard DNF/CNF algorithms,\n",
    "4) Definitional CNF (preserving equisatisfiability) for propositional logic.\n",
    "5) the DP and \"naive\" DPLL algorithms for testing satisfiability\n",
    "6) Basic Iterative DPLL as well as Backjumping/Conflict clause learning solvers DPLI and DPLU respectively.\n",
    "7) Prenex normal form\n",
    "8) Skolemization\n",
    "9) Herbrand methods of first-order validity checking (Gilmore and Davis-Putnam)\n",
    "\n",
    "To run the Jupyter notebook `README.ipynb`, you will need both Jupyter\n",
    "https://jupyter-notebook.readthedocs.io/en/stable/\n",
    "\n",
    "and a Jupyter Rust kernel, e.g. https://github.com/evcxr/evcxr/blob/main/evcxr_jupyter/README.md.\n",
    "\n",
    "`README.md` is generated from `README.ipynb` by running \n",
    "```jupyter nbconvert --execute --to markdown README.ipynb```\n",
    "\n",
    "Acknowlegement:  This libarary was highly informed by John Harrison's text on Automated Theorem Proving (which uses Ocaml).  \n",
    "\n",
    "(Harrison, J. (2009). Handbook of Practical Logic and Automated Reasoning. Cambridge: Cambridge University Press)\n",
    "\n",
    "\n"
   ]
  },
  {
   "cell_type": "code",
   "execution_count": 2,
   "id": "280da61a-5742-48e6-9506-b796d32dbb34",
   "metadata": {},
   "outputs": [],
   "source": [
    ":dep harrison_rust = {path = \".\"}"
   ]
  },
  {
   "cell_type": "code",
   "execution_count": 3,
   "id": "7418b00e-d9bc-4dc2-8038-2bf71ffd1ba7",
   "metadata": {
    "vscode": {
     "languageId": "rust"
    }
   },
   "outputs": [],
   "source": [
    "use std::collections::{HashMap, HashSet};\n",
    "use std::io::stdout;\n",
    "use std::path::Path;\n",
    "\n",
    "use harrison_rust::first_order_logic::{FOValuation, Interpretation, Language, Pred};\n",
    "use harrison_rust::formula::{DPLBSolver, Formula};\n",
    "use harrison_rust::propositional_logic::Prop;\n",
    "use harrison_rust::sudoku::{get_board_formulas, parse_sudoku_dataset, Board};\n",
    "use harrison_rust::utils::run_repeatedly_and_average;"
   ]
  },
  {
   "cell_type": "code",
   "execution_count": 4,
   "id": "7366f08a-caa1-4af5-bb94-16d847cb64c1",
   "metadata": {},
   "outputs": [],
   "source": [
    "let mut stdout = stdout();"
   ]
  },
  {
   "cell_type": "markdown",
   "id": "0aeff5c5-c735-46e3-8ec9-ab5cef24e38e",
   "metadata": {},
   "source": [
    "Example 1: Simple formula"
   ]
  },
  {
   "cell_type": "code",
   "execution_count": 20,
   "id": "12bba6ad-521d-46a5-96c7-28c9b26635ee",
   "metadata": {
    "vscode": {
     "languageId": "rust"
    }
   },
   "outputs": [
    {
     "name": "stdout",
     "output_type": "stream",
     "text": [
      "<<C \\/ D <=> ~A /\\ B>>\n",
      "A     B     C     D     | formula\n",
      "---------------------------------\n",
      "true  true  true  true  | false\n",
      "true  true  true  false | false\n",
      "true  true  false true  | false\n",
      "true  true  false false | true\n",
      "true  false true  true  | false\n",
      "true  false true  false | false\n",
      "true  false false true  | false\n",
      "true  false false false | true\n",
      "false true  true  true  | true\n",
      "false true  true  false | true\n",
      "false true  false true  | true\n",
      "false true  false false | false\n",
      "false false true  true  | false\n",
      "false false true  false | false\n",
      "false false false true  | false\n",
      "false false false false | true\n",
      "---------------------------------\n",
      "<<((((((A \\/ C) \\/ D) \\/ ~B) /\\ (B \\/ ~C)) /\\ (B \\/ ~D)) /\\ (~A \\/ ~C)) /\\ (~A \\/ ~D)>>\n",
      "Is satisfiable?: true\n",
      "Is tautology?: false\n"
     ]
    }
   ],
   "source": [
    "let formula = Formula::<Prop>::parse(\"C \\\\/ D <=> (~A /\\\\ B)\").unwrap();\n",
    "formula.pprint(&mut stdout);\n",
    "formula.print_truthtable(&mut stdout);\n",
    "let cnf = Formula::cnf(&formula);\n",
    "cnf.pprint(&mut stdout);\n",
    "\n",
    "println!(\"Is satisfiable?: {}\", formula.dpll_sat());\n",
    "println!(\"Is tautology?: {}\", formula.dpll_taut());"
   ]
  },
  {
   "cell_type": "markdown",
   "id": "4a8132c2-b6ff-4188-bc15-5c473662304e",
   "metadata": {},
   "source": [
    "Example 2: A Tautology"
   ]
  },
  {
   "cell_type": "code",
   "execution_count": 21,
   "id": "5f90c158-13b6-47f8-ac3f-d85b1f301e18",
   "metadata": {
    "vscode": {
     "languageId": "rust"
    }
   },
   "outputs": [
    {
     "name": "stdout",
     "output_type": "stream",
     "text": [
      "<<A \\/ ~A>>\n",
      "A     | formula\n",
      "---------------\n",
      "true  | true\n",
      "false | true\n",
      "---------------\n",
      "<<true>>\n",
      "Is satisfiable?: true\n",
      "Is tautology?: true\n"
     ]
    }
   ],
   "source": [
    "let formula = Formula::<Prop>::parse(\"A \\\\/ ~A\").unwrap();\n",
    "formula.pprint(&mut stdout);\n",
    "formula.print_truthtable(&mut stdout);\n",
    "let cnf = Formula::cnf(&formula);\n",
    "cnf.pprint(&mut stdout);\n",
    "\n",
    "println!(\"Is satisfiable?: {}\", formula.dpll_sat());\n",
    "println!(\"Is tautology?: {}\", formula.dpll_taut());"
   ]
  },
  {
   "cell_type": "markdown",
   "id": "9d50c082-8397-4b95-a400-c1b00cea8e5e",
   "metadata": {},
   "source": [
    "Example 3: A Contradiction"
   ]
  },
  {
   "cell_type": "code",
   "execution_count": 22,
   "id": "25f3717e-df1c-4d8c-8ca9-1b423625d6ed",
   "metadata": {
    "vscode": {
     "languageId": "rust"
    }
   },
   "outputs": [
    {
     "name": "stdout",
     "output_type": "stream",
     "text": [
      "<<~A /\\ A>>\n",
      "A     | formula\n",
      "---------------\n",
      "true  | false\n",
      "false | false\n",
      "---------------\n",
      "<<false>>\n",
      "Is satisfiable?: false\n",
      "Is tautology?: false\n",
      "Is contradiction?: true\n"
     ]
    }
   ],
   "source": [
    "let formula = Formula::<Prop>::parse(\"~A /\\\\ A\").unwrap();\n",
    "formula.pprint(&mut stdout);\n",
    "formula.print_truthtable(&mut stdout);\n",
    "let dnf = Formula::dnf(&formula);\n",
    "dnf.pprint(&mut stdout);\n",
    "\n",
    "println!(\"Is satisfiable?: {}\", formula.dpll_sat());\n",
    "println!(\"Is tautology?: {}\", formula.dpll_taut());\n",
    "println!(\"Is contradiction?: {}\", Formula::not(&formula).dpll_taut());"
   ]
  },
  {
   "cell_type": "markdown",
   "id": "e5870759-3fba-43a7-8b60-5869ef25742a",
   "metadata": {},
   "source": [
    "Example 4: Formula simplification"
   ]
  },
  {
   "cell_type": "code",
   "execution_count": 23,
   "id": "ac98720a-62c8-42ef-a930-f7c665c9cbfa",
   "metadata": {
    "vscode": {
     "languageId": "rust"
    }
   },
   "outputs": [
    {
     "name": "stdout",
     "output_type": "stream",
     "text": [
      "<<(true ==> (x <=> false)) ==> ~(y \\/ false /\\ z)>>\n",
      "...simplifies to...\n",
      "<<~x ==> ~y>>\n",
      "<<forall x. ((true ==> (R(x) <=> false)) ==> (exists z y. ~(K(y) \\/ false)))>>\n",
      "...simplifies to...\n",
      "<<forall x. (~R(x) ==> (exists y. ~K(y)))>>\n"
     ]
    }
   ],
   "source": [
    "let formula =\n",
    "    Formula::<Prop>::parse(\"((true ==> (x <=> false)) ==> ~(y \\\\/ (false /\\\\ z)))\").unwrap();\n",
    "formula.pprint(&mut stdout);\n",
    "println!(\"...simplifies to...\");\n",
    "let simplified = formula.simplify();\n",
    "\n",
    "simplified.pprint(&mut stdout);\n",
    "\n",
    "let formula = Formula::<Pred>::parse(\n",
    "    \"forall x. ((true ==> (R(x) <=> false)) ==> exists z. exists y. ~(K(y) \\\\/ false))\",\n",
    ")\n",
    ".unwrap();\n",
    "formula.pprint(&mut stdout);\n",
    "println!(\"...simplifies to...\");\n",
    "let simplified = formula.simplify();\n",
    "\n",
    "simplified.pprint(&mut stdout);"
   ]
  },
  {
   "cell_type": "markdown",
   "id": "d9de9b9b-ba63-4a00-8f06-4c180d036c0d",
   "metadata": {},
   "source": [
    "Example 5: Solve a hard sudoku board (You should be in release mode for this.)"
   ]
  },
  {
   "cell_type": "code",
   "execution_count": 24,
   "id": "6a90d53d-5eed-4df5-aa9f-7ad6592105e8",
   "metadata": {},
   "outputs": [
    {
     "name": "stdout",
     "output_type": "stream",
     "text": [
      "(A sentence in 729 propositional variables)\n",
      "Is satisfiable?: true\n",
      "Check: Solution satisfies original constraints?: true\n",
      "Let's use the same solver to run several times and take the average time...\n",
      "Average time over a total of 10 runs is 1.397577633s.\n",
      "\n"
     ]
    }
   ],
   "source": [
    "let path_str: &str = \"./data/sudoku.txt\";\n",
    "let path: &Path = Path::new(path_str);\n",
    "let boards: Vec<Board> = parse_sudoku_dataset(path, Some(1));\n",
    "let clauses = get_board_formulas(&boards, 9, 3)[0].clone();\n",
    "let mut solver = DPLBSolver::new(&clauses);\n",
    "let num_props = solver.num_props();\n",
    "println!(\"(A sentence in {num_props} propositional variables)\");\n",
    "let is_sat = solver.solve();\n",
    "println!(\"Is satisfiable?: {is_sat}\");\n",
    "assert!(is_sat);\n",
    "let formula = Formula::formulaset_to_formula(clauses);\n",
    "let check = formula.eval(&solver.get_valuation().unwrap());\n",
    "println!(\"Check: Solution satisfies original constraints?: {check}\");\n",
    "println!(\"Let's use the same solver to run several times and take the average time...\");\n",
    "run_repeatedly_and_average(\n",
    "    || {\n",
    "        solver.solve();\n",
    "    },\n",
    "    10,\n",
    ");"
   ]
  },
  {
   "cell_type": "markdown",
   "id": "5f8f45d2-2fc6-469d-8de1-c8597c282c95",
   "metadata": {},
   "source": [
    "Example 6: Arithmetic mod n (n >= 2)"
   ]
  },
  {
   "cell_type": "code",
   "execution_count": 13,
   "id": "fee40c8d-337e-4452-b066-f5942e2b5901",
   "metadata": {
    "vscode": {
     "languageId": "rust"
    }
   },
   "outputs": [
    {
     "name": "stdout",
     "output_type": "stream",
     "text": [
      "Definition of multiplicative inverses:\n",
      "<<forall x. (~x = 0 ==> (exists y. x * y = 1))>>\n",
      "Model:         |  Is a field?\n",
      "Integers mod 2:  true\n",
      "Integers mod 3:  true\n",
      "Integers mod 4:  false\n",
      "Integers mod 5:  true\n",
      "Integers mod 6:  false\n",
      "Integers mod 7:  true\n",
      "Integers mod 8:  false\n",
      "Integers mod 9:  false\n",
      "Integers mod 10:  false\n",
      "Integers mod 11:  true\n",
      "Integers mod 12:  false\n",
      "Integers mod 13:  true\n",
      "Integers mod 14:  false\n",
      "Integers mod 15:  false\n",
      "Integers mod 16:  false\n",
      "Integers mod 17:  true\n",
      "Integers mod 18:  false\n",
      "Integers mod 19:  true\n"
     ]
    },
    {
     "data": {
      "text/plain": [
       "()"
      ]
     },
     "execution_count": 13,
     "metadata": {},
     "output_type": "execute_result"
    }
   ],
   "source": [
    "fn integers_mod_n(n: u32) -> Interpretation<u32> {\n",
    "    assert!(n > 1);\n",
    "\n",
    "    type FuncType = dyn Fn(&[u32]) -> u32;\n",
    "    type RelType = dyn Fn(&[u32]) -> bool;\n",
    "\n",
    "    let lang = Language {\n",
    "        func: HashMap::from([\n",
    "            (\"+\".to_string(), 2),\n",
    "            (\"*\".to_string(), 2),\n",
    "            (\"0\".to_string(), 0),\n",
    "            (\"1\".to_string(), 0),\n",
    "        ]),\n",
    "        rel: HashMap::from([(\"=\".to_string(), 2)]),\n",
    "    };\n",
    "\n",
    "    let domain: HashSet<u32> = HashSet::from_iter(0..n);\n",
    "\n",
    "    let addition = move |inputs: &[u32]| -> u32 { (inputs[0] + inputs[1]) % n };\n",
    "    let multiplication = move |inputs: &[u32]| -> u32 { (inputs[0] * inputs[1]) % n };\n",
    "    let zero = |_inputs: &[u32]| -> u32 { 0 };\n",
    "    let one = |_inputs: &[u32]| -> u32 { 1 };\n",
    "\n",
    "    fn equality(inputs: &[u32]) -> bool {\n",
    "        inputs[0] == inputs[1]\n",
    "    }\n",
    "\n",
    "    let funcs: HashMap<String, Box<FuncType>> = HashMap::from([\n",
    "        (\"+\".to_string(), Box::new(addition) as Box<FuncType>),\n",
    "        (\"*\".to_string(), Box::new(multiplication) as Box<FuncType>),\n",
    "        (\"0\".to_string(), Box::new(zero) as Box<FuncType>),\n",
    "        (\"1\".to_string(), Box::new(one) as Box<FuncType>),\n",
    "    ]);\n",
    "    let rels: HashMap<String, Box<RelType>> =\n",
    "        HashMap::from([(\"=\".to_string(), Box::new(equality) as Box<RelType>)]);\n",
    "\n",
    "    Interpretation::new(&lang, domain, funcs, rels)\n",
    "}\n",
    "\n",
    "// Let's verify (for n < 20) that the integers mod n form a field\n",
    "// (have multiplicative inverses) if and only if n is prime.\n",
    "let mult_inverse = \"forall x. (~(x = 0) ==> exists y. x * y = 1)\";\n",
    "let mult_inverse_formula = Formula::<Pred>::parse(mult_inverse).unwrap();\n",
    "println!(\"Definition of multiplicative inverses:\");\n",
    "mult_inverse_formula.pprint(&mut stdout);\n",
    "\n",
    "let empty_valuation = FOValuation::new();\n",
    "println!(\"Model:         |  Is a field?\");\n",
    "for n in 2..20 {\n",
    "    let interpretation = integers_mod_n(n);\n",
    "    let sat = mult_inverse_formula.eval(&interpretation, &empty_valuation);\n",
    "    println!(\"Integers mod {n}:  {sat}\");\n",
    "}"
   ]
  },
  {
   "cell_type": "markdown",
   "id": "58f7e68a-c1c2-4aa7-b32f-b22ef724a72a",
   "metadata": {},
   "source": [
    "Example 7: Prenex Normal Form"
   ]
  },
  {
   "cell_type": "code",
   "execution_count": 14,
   "id": "cc79a528-90c8-46ee-9e4c-39bb8eb9b7cd",
   "metadata": {
    "vscode": {
     "languageId": "rust"
    }
   },
   "outputs": [
    {
     "name": "stdout",
     "output_type": "stream",
     "text": [
      "<<(exists x. F(x, z)) ==> (exists w. (forall z. ~G(z, x)))>>\n",
      "In prenex normal form:\n",
      "<<forall x' z'. (~F(x', z) \\/ ~G(z', x))>>\n"
     ]
    }
   ],
   "source": [
    "let formula =\n",
    "    Formula::<Pred>::parse(\"(exists x. F(x, z)) ==> (exists w. forall z. ~G(z, x))\").unwrap();\n",
    "formula.pprint(&mut stdout);\n",
    "println!(\"In prenex normal form:\");\n",
    "let result = formula.pnf();\n",
    "result.pprint(&mut stdout);"
   ]
  },
  {
   "cell_type": "markdown",
   "id": "3e7c5624-7a07-4a29-a1c6-d812d86472c9",
   "metadata": {},
   "source": [
    "Example 8: Skolemization"
   ]
  },
  {
   "cell_type": "code",
   "execution_count": 15,
   "id": "4762b8c8-223c-4196-af4a-3fa074305602",
   "metadata": {
    "vscode": {
     "languageId": "rust"
    }
   },
   "outputs": [
    {
     "name": "stdout",
     "output_type": "stream",
     "text": [
      "<<R(F(y)) \\/ (exists x. P(f_w(x))) /\\ (exists n. (forall r y. (exists w. M(G(y, w))))) \\/ (exists z. ~M(F(z, w)))>>\n",
      "Skolemized:\n",
      "<<R(F(y)) \\/ P(f_w(c_x)) /\\ M(G(y', f_w'(y'))) \\/ ~M(F(f_z(w), w))>>\n"
     ]
    }
   ],
   "source": [
    "let formula = Formula::<Pred>::parse(\n",
    "    \"R(F(y)) \\\\/ (exists x. P(f_w(x))) /\\\\ exists n. forall r. forall y. exists w. M(G(y, w)) \n",
    "    \\\\/ exists z. ~M(F(z, w))\",\n",
    ")\n",
    ".unwrap();\n",
    "formula.pprint(&mut stdout);\n",
    "println!(\"Skolemized:\");\n",
    "let result = formula.skolemize();\n",
    "result.pprint(&mut stdout);"
   ]
  },
  {
   "cell_type": "markdown",
   "id": "7fa615c9-a944-492a-a680-aecfeac25b03",
   "metadata": {},
   "source": [
    "Example 9: Test a first order formula for validity (valid formula)"
   ]
  },
  {
   "cell_type": "code",
   "execution_count": 16,
   "id": "74571189-4ebc-481a-95e3-accde7c74178",
   "metadata": {
    "vscode": {
     "languageId": "rust"
    }
   },
   "outputs": [
    {
     "name": "stdout",
     "output_type": "stream",
     "text": [
      "Generating tuples for next level: 0\n",
      "Adding tuple [Fun(\"c_x\", []), Fun(\"c_x\", []), Fun(\"c_x\", [])]\n",
      "1 tuples in formula\n",
      "Adding tuple [Fun(\"c_x\", []), Fun(\"c_x\", []), Fun(\"c_y\", [])]\n",
      "2 tuples in formula\n",
      "Adding tuple [Fun(\"c_x\", []), Fun(\"c_y\", []), Fun(\"c_x\", [])]\n",
      "3 tuples in formula\n",
      "Adding tuple [Fun(\"c_x\", []), Fun(\"c_y\", []), Fun(\"c_y\", [])]\n",
      "4 tuples in formula\n",
      "Adding tuple [Fun(\"c_y\", []), Fun(\"c_x\", []), Fun(\"c_x\", [])]\n",
      "5 tuples in formula\n",
      "Adding tuple [Fun(\"c_y\", []), Fun(\"c_x\", []), Fun(\"c_y\", [])]\n",
      "6 tuples in formula\n",
      "Adding tuple [Fun(\"c_y\", []), Fun(\"c_y\", []), Fun(\"c_x\", [])]\n",
      "7 tuples in formula\n",
      "Adding tuple [Fun(\"c_y\", []), Fun(\"c_y\", []), Fun(\"c_y\", [])]\n",
      "8 tuples in formula\n",
      "Generating tuples for next level: 1\n",
      "Adding tuple [Fun(\"c_x\", []), Fun(\"c_x\", []), Fun(\"f_z\", [Fun(\"c_x\", []), Fun(\"c_x\", [])])]\n",
      "9 tuples in formula\n",
      "Adding tuple [Fun(\"c_x\", []), Fun(\"c_x\", []), Fun(\"f_z\", [Fun(\"c_x\", []), Fun(\"c_y\", [])])]\n",
      "10 tuples in formula\n",
      "Adding tuple [Fun(\"c_x\", []), Fun(\"c_x\", []), Fun(\"f_z\", [Fun(\"c_y\", []), Fun(\"c_x\", [])])]\n",
      "11 tuples in formula\n",
      "Adding tuple [Fun(\"c_x\", []), Fun(\"c_x\", []), Fun(\"f_z\", [Fun(\"c_y\", []), Fun(\"c_y\", [])])]\n",
      "12 tuples in formula\n",
      "Adding tuple [Fun(\"c_x\", []), Fun(\"c_y\", []), Fun(\"f_z\", [Fun(\"c_x\", []), Fun(\"c_x\", [])])]\n",
      "13 tuples in formula\n",
      "Adding tuple [Fun(\"c_x\", []), Fun(\"c_y\", []), Fun(\"f_z\", [Fun(\"c_x\", []), Fun(\"c_y\", [])])]\n",
      "14 tuples in formula\n",
      "Adding tuple [Fun(\"c_x\", []), Fun(\"c_y\", []), Fun(\"f_z\", [Fun(\"c_y\", []), Fun(\"c_x\", [])])]\n",
      "15 tuples in formula\n",
      "Adding tuple [Fun(\"c_x\", []), Fun(\"c_y\", []), Fun(\"f_z\", [Fun(\"c_y\", []), Fun(\"c_y\", [])])]\n",
      "16 tuples in formula\n",
      "Adding tuple [Fun(\"c_x\", []), Fun(\"f_z\", [Fun(\"c_x\", []), Fun(\"c_x\", [])]), Fun(\"c_x\", [])]\n",
      "17 tuples in formula\n",
      "Adding tuple [Fun(\"c_x\", []), Fun(\"f_z\", [Fun(\"c_x\", []), Fun(\"c_x\", [])]), Fun(\"c_y\", [])]\n",
      "18 tuples in formula\n",
      "Adding tuple [Fun(\"c_x\", []), Fun(\"f_z\", [Fun(\"c_x\", []), Fun(\"c_y\", [])]), Fun(\"c_x\", [])]\n",
      "19 tuples in formula\n",
      "Found 2 inconsistent tuples of skolemized negation: {[Fun(\"c_y\", []), Fun(\"c_x\", []), Fun(\"c_y\", [])], [Fun(\"c_x\", []), Fun(\"f_z\", [Fun(\"c_x\", []), Fun(\"c_y\", [])]), Fun(\"c_x\", [])]}\n",
      "Formula is valid.\n"
     ]
    }
   ],
   "source": [
    "let string = \"(forall x y. exists z. forall w. (P(x) /\\\\ Q(y) ==> R(z) /\\\\ U(w))) \n",
    "    ==> (exists x y. (P(x) /\\\\ Q(y))) ==> (exists z. R(z))\";\n",
    "let formula = Formula::<Pred>::parse(string).unwrap();\n",
    "let compute_unsat_core = true;\n",
    "let max_depth = 10;\n",
    "Formula::davis_putnam(&formula, compute_unsat_core, max_depth);"
   ]
  },
  {
   "cell_type": "markdown",
   "id": "28be431b-54e7-4764-b1bd-7f9a636953cc",
   "metadata": {},
   "source": [
    "Example 10: Test a first order formula for validity (invalid formula)"
   ]
  },
  {
   "cell_type": "code",
   "execution_count": 17,
   "id": "9d14e981-5678-4698-a3bd-11a71ef57564",
   "metadata": {},
   "outputs": [
    {
     "name": "stdout",
     "output_type": "stream",
     "text": [
      "Generating tuples for next level: 0\n",
      "Adding tuple [Fun(\"c_boy\", [])]\n",
      "1 tuples in formula\n",
      "Generating tuples for next level: 1\n",
      "Adding tuple [Fun(\"friend\", [Fun(\"c_boy\", [])])]\n",
      "2 tuples in formula\n",
      "Generating tuples for next level: 2\n",
      "Adding tuple [Fun(\"friend\", [Fun(\"friend\", [Fun(\"c_boy\", [])])])]\n",
      "3 tuples in formula\n",
      "Generating tuples for next level: 3\n",
      "Adding tuple [Fun(\"friend\", [Fun(\"friend\", [Fun(\"friend\", [Fun(\"c_boy\", [])])])])]\n",
      "4 tuples in formula\n",
      "Generating tuples for next level: 4\n",
      "Adding tuple [Fun(\"friend\", [Fun(\"friend\", [Fun(\"friend\", [Fun(\"friend\", [Fun(\"c_boy\", [])])])])])]\n",
      "5 tuples in formula\n",
      "Generating tuples for next level: 5\n",
      "Adding tuple [Fun(\"friend\", [Fun(\"friend\", [Fun(\"friend\", [Fun(\"friend\", [Fun(\"friend\", [Fun(\"c_boy\", [])])])])])])]\n",
      "6 tuples in formula\n",
      "Generating tuples for next level: 6\n",
      "Adding tuple [Fun(\"friend\", [Fun(\"friend\", [Fun(\"friend\", [Fun(\"friend\", [Fun(\"friend\", [Fun(\"friend\", [Fun(\"c_boy\", [])])])])])])])]\n",
      "7 tuples in formula\n",
      "Generating tuples for next level: 7\n",
      "Adding tuple [Fun(\"friend\", [Fun(\"friend\", [Fun(\"friend\", [Fun(\"friend\", [Fun(\"friend\", [Fun(\"friend\", [Fun(\"friend\", [Fun(\"c_boy\", [])])])])])])])])]\n",
      "8 tuples in formula\n",
      "Generating tuples for next level: 8\n",
      "Adding tuple [Fun(\"friend\", [Fun(\"friend\", [Fun(\"friend\", [Fun(\"friend\", [Fun(\"friend\", [Fun(\"friend\", [Fun(\"friend\", [Fun(\"friend\", [Fun(\"c_boy\", [])])])])])])])])])]\n",
      "9 tuples in formula\n",
      "Generating tuples for next level: 9\n",
      "Adding tuple [Fun(\"friend\", [Fun(\"friend\", [Fun(\"friend\", [Fun(\"friend\", [Fun(\"friend\", [Fun(\"friend\", [Fun(\"friend\", [Fun(\"friend\", [Fun(\"friend\", [Fun(\"c_boy\", [])])])])])])])])])])]\n",
      "10 tuples in formula\n",
      "Generating tuples for next level: 10\n",
      "Err(HerbrandBoundReached { msg: \"Reached herbrand term nesting bound of 10.  Giving up.\" })\n"
     ]
    }
   ],
   "source": [
    "let string = \"forall boy. exists girl. (Loves(girl, friend(boy)))\";\n",
    "let formula = Formula::<Pred>::parse(string).unwrap();\n",
    "let compute_unsat_core = true;\n",
    "let max_depth = 10;\n",
    "let result = Formula::davis_putnam(&formula, compute_unsat_core, max_depth);\n",
    "println!(\"{:?}\", result);"
   ]
  },
  {
   "cell_type": "markdown",
   "id": "0dcdd013-7166-4065-a4eb-8f5793b4b94b",
   "metadata": {},
   "source": [
    "Note:  You might think that you could also run a parallel process checking all models of the above language of increasing size looking for counterexamples.  While this would indeed work for the example above, it does not work in general because there are some first order formulas which have counterexamples only in infinite models.  For example consider the sentence\n",
    "`forall x y. (f(x) == f(y) ==> x == y) ==> exists z. (f(z) == c))` That is, every 1-1 function is onto.\n",
    "This sentence is true in all finite models but need not be true in infinite models."
   ]
  },
  {
   "cell_type": "code",
   "execution_count": null,
   "id": "66b8c08d-01f8-4cdb-a877-56dc0cd64421",
   "metadata": {},
   "outputs": [],
   "source": []
  }
 ],
 "metadata": {
  "kernelspec": {
   "display_name": "Rust",
   "language": "rust",
   "name": "rust"
  },
  "language_info": {
   "codemirror_mode": "rust",
   "file_extension": ".rs",
   "mimetype": "text/rust",
   "name": "Rust",
   "pygment_lexer": "rust",
   "version": ""
  }
 },
 "nbformat": 4,
 "nbformat_minor": 5
}
